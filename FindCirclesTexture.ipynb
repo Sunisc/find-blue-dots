{
 "cells": [
  {
   "cell_type": "markdown",
   "metadata": {},
   "source": [
    "# Experiment with finding circles in the Rett Girls videos\n",
    "\n",
    "July 2018\n",
    "\n",
    "This attempts using boundaries and contained texture"
   ]
  },
  {
   "cell_type": "code",
   "execution_count": null,
   "metadata": {},
   "outputs": [],
   "source": [
    "%matplotlib inline\n",
    "%config InlineBackend.figure_format = 'svg'\n",
    "# %config InlineBackend.print_figure_kwargs={'bbox_inches':None}\n",
    "import cv2\n",
    "import numpy as np\n",
    "import os.path as osp\n",
    "import matplotlib.pyplot as plt\n",
    "import matplotlib.image as mpimg\n",
    "import matplotlib as mpl\n",
    "\n",
    "mpl.rcParams['figure.dpi']= 300"
   ]
  },
  {
   "cell_type": "code",
   "execution_count": null,
   "metadata": {},
   "outputs": [],
   "source": [
    "vid = '/home/gb/Dropbox/Karen and Gary Shared Files/Videos & Transcripts/MSB/MSB_Video 1 (09-30-17).mp4'\n",
    "vc = cv2.VideoCapture(vid)\n",
    "vc.get(cv2.CAP_PROP_FRAME_COUNT), vc.get(cv2.CAP_PROP_FPS), vc.get(cv2.CAP_PROP_FRAME_WIDTH), vc.get(cv2.CAP_PROP_FRAME_HEIGHT)"
   ]
  },
  {
   "cell_type": "code",
   "execution_count": null,
   "metadata": {},
   "outputs": [],
   "source": [
    "def show(im, **kwargs):\n",
    "    '''Show images actual size unless it is tiny\n",
    "    \n",
    "    I'm assuming they are in LAB float32 if the rank is 3\n",
    "    \n",
    "    '''\n",
    "    height, width = im.shape[:2]\n",
    "    if height > 50 and width > 50:\n",
    "        dpi = 100\n",
    "        margin= 50\n",
    "        figsize=((width+2*margin)/dpi, (height+2*margin)/dpi) # inches\n",
    "        left = margin/dpi/figsize[0] #axes ratio\n",
    "        bottom = margin/dpi/figsize[1]\n",
    "\n",
    "        fig = plt.figure(figsize=figsize, dpi=dpi)\n",
    "        fig.subplots_adjust(left=left, bottom=bottom, right=1.-left, top=1.-bottom)\n",
    "    else:\n",
    "        plt.figure()\n",
    "    \n",
    "    args = dict(kwargs)\n",
    "    if 'title' in args:\n",
    "        del args['title']\n",
    "    \n",
    "    if len(im.shape) == 3:\n",
    "        im = cv2.cvtColor(im, cv2.COLOR_LAB2RGB)\n",
    "    elif len(im.shape) == 2:\n",
    "        args['cmap'] = 'gray'                  \n",
    "\n",
    "    plt.imshow(im, **args)\n",
    "    if 'title' in kwargs:\n",
    "        plt.title(kwargs['title'])"
   ]
  },
  {
   "cell_type": "code",
   "execution_count": null,
   "metadata": {},
   "outputs": [],
   "source": [
    "def grabFrame(fn):\n",
    "    vc.set(cv2.CAP_PROP_POS_FRAMES, fn)\n",
    "    rval, im = vc.read()\n",
    "    im = cv2.cvtColor(im.astype(np.float32)/255.0, cv2.COLOR_BGR2LAB)\n",
    "    return im\n",
    "show(grabFrame(100))"
   ]
  },
  {
   "cell_type": "code",
   "execution_count": null,
   "metadata": {},
   "outputs": [],
   "source": [
    "def isBlue(im):\n",
    "    mblue = np.array([ 60.4 , -12.2, -35.7 ], dtype=np.float32)\n",
    "    sblue = np.array([ 4.1, 3.2, 8.5], dtype=np.float32)\n",
    "    d2 = np.sum((im - mblue)**2 / sblue**2, axis=2)\n",
    "    return np.exp(-d2 / 20)\n",
    "\n",
    "im = grabFrame(60)\n",
    "pblue = isBlue(im)\n",
    "_, tblue = cv2.threshold(pblue, 0.6, 255, cv2.THRESH_BINARY)\n",
    "show(pblue)\n",
    "show(tblue)\n",
    "show(255 - tblue)"
   ]
  },
  {
   "cell_type": "code",
   "execution_count": null,
   "metadata": {},
   "outputs": [],
   "source": [
    "def isCircular(contour):\n",
    "    perimeter = cv2.arcLength(contour, True)\n",
    "    if perimeter == 0:\n",
    "        return False\n",
    "    area = cv2.contourArea(contour)\n",
    "    circularity = 4 * np.pi * (area / perimeter ** 2)\n",
    "    #return 0.7 <= circularity <= 1.2\n",
    "    return 0.5 <= circularity <= 1.4\n",
    "\n",
    "def findBlobs(image, verbose=True):\n",
    "    # find the special blue\n",
    "    blue = isBlue(image)\n",
    "    _, blue = cv2.threshold(blue, 0.6, 255, cv2.THRESH_BINARY)\n",
    "    blue = blue.astype(np.uint8)\n",
    "    # dilate a bit to fill in noise\n",
    "    blue = cv2.dilate(blue, np.ones((3,3), dtype=np.uint8), iterations=1)\n",
    "    blue = cv2.erode(blue, np.ones((3,3), dtype=np.uint8), iterations=1)\n",
    "    \n",
    "    if verbose:\n",
    "        show(blue)\n",
    "    # get the contours of the blue regions\n",
    "    im2, contours, hierarchy = cv2.findContours(blue, cv2.RETR_EXTERNAL, cv2.CHAIN_APPROX_SIMPLE)\n",
    "    if verbose:\n",
    "        oim = image.copy()\n",
    "        cv2.drawContours(oim, contours, -1, (0,0,0), 1)\n",
    "        show(oim)\n",
    "    # filter by area\n",
    "    if True:\n",
    "        minArea = np.pi * 4**2\n",
    "        maxArea = np.pi * 16**2\n",
    "        contours = [contour for contour in contours if minArea < cv2.contourArea(contour) < maxArea]\n",
    "        if verbose:\n",
    "            oim = image.copy()\n",
    "            cv2.drawContours(oim, contours, -1, (0,0,0), 1)\n",
    "            show(oim)\n",
    "    if False:\n",
    "        # filter by circularity\n",
    "        contours = [contour for contour in contours if isCircular(contour)]\n",
    "        if verbose:\n",
    "            oim = image.copy()\n",
    "            cv2.drawContours(oim, contours, -1, (0,0,0), 1)\n",
    "            show(oim)\n",
    "\n",
    "    return contours\n",
    "t = findBlobs(grabFrame(3680))"
   ]
  },
  {
   "cell_type": "markdown",
   "metadata": {},
   "source": [
    "## Marc suggests using the digits"
   ]
  },
  {
   "cell_type": "code",
   "execution_count": null,
   "metadata": {},
   "outputs": [],
   "source": [
    "f = grabFrame(60)\n",
    "t = findBlobs(f)"
   ]
  },
  {
   "cell_type": "code",
   "execution_count": null,
   "metadata": {},
   "outputs": [],
   "source": [
    "f = grabFrame(60)\n",
    "digitContours = findBlobs(f, False)\n",
    "b = isBlue(f)\n",
    "digitOrder = [3, 4, 2, 9, 1, 7, 6, 0, 8, 5]\n",
    "digitMap = {v:i for i,v in enumerate(digitOrder)}\n",
    "offset = {\n",
    "    1: (2,3),\n",
    "    2: (2,3),\n",
    "    3: (2,4),\n",
    "    4: (2,3),\n",
    "    5: (3,3),\n",
    "    6: (2,3),\n",
    "    7: (2,3),\n",
    "    8: (1,4),\n",
    "    9: (2,3),\n",
    "    0: (2,6)   \n",
    "}\n",
    "\n",
    "for digit in range(0,10):\n",
    "    c = digitContours[digitMap[digit]]\n",
    "    x, y, w, h = cv2.boundingRect(c)\n",
    "    #yo, xo = offset[digit]\n",
    "    show(b[y:y+h,x:x+w], title='%d %d' % (x, y))\n"
   ]
  },
  {
   "cell_type": "code",
   "execution_count": null,
   "metadata": {},
   "outputs": [],
   "source": [
    "def numberTemplate(number, scale):\n",
    "    font = cv2.FONT_HERSHEY_COMPLEX_SMALL\n",
    "    text = str(number)\n",
    "    (w,h),b = cv2.getTextSize(text, font, scale, 1)\n",
    "    img = np.zeros((h+b+4,w+4), dtype=np.uint8)\n",
    "    cv2.putText(img, text, (2, h+b), font, scale, 255, 1, cv2.LINE_AA)\n",
    "    x, y, w, h = cv2.boundingRect(cv2.findNonZero(img))\n",
    "    return img[y:y+h,x:x+w]\n",
    "\n",
    "show(numberTemplate(4, 0.57))"
   ]
  },
  {
   "cell_type": "code",
   "execution_count": null,
   "metadata": {},
   "outputs": [],
   "source": [
    "f = grabFrame(608)\n",
    "digitContours = findBlobs(f, False)\n",
    "im = grabFrame(60)\n",
    "\n",
    "\n",
    "b = isBlue(f)\n",
    "_, b = cv2.threshold(b, 0.7, 255, cv2.THRESH_BINARY)\n",
    "b = b.astype(np.uint8)\n",
    "for c in digitContours[3:4]:\n",
    "    x, y, w, h = cv2.boundingRect(c)\n",
    "    print(w, h)\n",
    "    area = (f[y:y+h,x:x+w, 0]).astype(np.uint8)\n",
    "    show(area, title='%d %d' % (x, y))\n",
    "    values = []\n",
    "    scales = np.arange(0.3,0.7,0.01)\n",
    "    for scale in scales:\n",
    "        number = 2\n",
    "        temp = numberTemplate(number, scale)\n",
    "        res = cv2.matchTemplate(area, temp, cv2.TM_CCORR_NORMED)\n",
    "        # res = cv2.matchTemplate(area, temp, cv2.TM_SQDIFF_NORMED)\n",
    "        min_val, max_val, min_loc, max_loc = cv2.minMaxLoc(res)\n",
    "        print(scale, max_val, max_loc)\n",
    "        values.append(max_val)\n",
    "        # values.append(min_val)\n",
    "    plt.figure()\n",
    "    plt.plot(scales, values)\n",
    "    plt.show()\n"
   ]
  },
  {
   "cell_type": "code",
   "execution_count": null,
   "metadata": {},
   "outputs": [],
   "source": [
    "13*0.42/12"
   ]
  },
  {
   "cell_type": "code",
   "execution_count": null,
   "metadata": {},
   "outputs": [],
   "source": [
    "f = grabFrame(2297)\n",
    "show(f)\n",
    "digitContours = findBlobs(f, False)\n",
    "im = f\n",
    "\n",
    "b = isBlue(f)\n",
    "_, b = cv2.threshold(b, 0.7, 255, cv2.THRESH_BINARY)\n",
    "b = b.astype(np.uint8)\n",
    "for c in digitContours:\n",
    "    x, y, w, h = cv2.boundingRect(c)\n",
    "    area = (f[y:y+h,x:x+w, 0]).astype(np.uint8)\n",
    "    show(area, title='%d %d' % (x, y))\n",
    "    values = []\n",
    "    scale = max(0.3, min(0.7, 0.42 * min(h, w) / 12))\n",
    "    print(scale)\n",
    "    for number in range(10):\n",
    "        temp = numberTemplate(number, scale)\n",
    "        try:\n",
    "            res = cv2.matchTemplate(area, temp, cv2.TM_CCOEFF_NORMED)\n",
    "        except:\n",
    "            values.append(0)\n",
    "        else:\n",
    "            # res = cv2.matchTemplate(area, temp, cv2.TM_SQDIFF_NORMED)\n",
    "            min_val, max_val, min_loc, max_loc = cv2.minMaxLoc(res)\n",
    "            #print(scale, max_val, max_loc)\n",
    "            values.append(max_val)\n",
    "        # values.append(min_val)\n",
    "    plt.figure()\n",
    "    plt.plot(range(10), values)\n",
    "    plt.show()"
   ]
  },
  {
   "cell_type": "markdown",
   "metadata": {},
   "source": [
    "## Find all the blobs and save them away"
   ]
  },
  {
   "cell_type": "code",
   "execution_count": null,
   "metadata": {},
   "outputs": [],
   "source": [
    "results = []\n",
    "nframes = int(vc.get(cv2.CAP_PROP_FRAME_COUNT))\n",
    "for fno in range(100, 3680):\n",
    "    if fno % 100 == 0:\n",
    "        print(fno, len(results))\n",
    "    frame = grabFrame(fno)\n",
    "    for blob in findBlobs(frame, False):\n",
    "        x, y, w, h = cv2.boundingRect(blob)\n",
    "        if x < 2 or y < 2 or x+w >= frame.shape[1] - 2 or y+h >= frame.shape[0] - 2:\n",
    "            continue\n",
    "        pixels = frame[y-2:y+h+2, x-2:x+w+2].copy()\n",
    "        results.append((fno, blob, pixels))\n",
    "\n",
    "    "
   ]
  },
  {
   "cell_type": "code",
   "execution_count": null,
   "metadata": {},
   "outputs": [],
   "source": [
    "import pickle\n",
    "pickle.dump(results, open('MSB_Video_1.blobs1', 'wb'))"
   ]
  },
  {
   "cell_type": "markdown",
   "metadata": {},
   "source": [
    "## Eliminate duplicates"
   ]
  },
  {
   "cell_type": "code",
   "execution_count": null,
   "metadata": {},
   "outputs": [],
   "source": [
    "compressed = []\n",
    "for afno, ablob, apixels in results:\n",
    "    if afno % 100 == 0:\n",
    "        print(afno, len(compressed))\n",
    "    for bfno, bblob, bpixels in compressed[::-1]:\n",
    "        if len(ablob) == len(bblob) and np.all(ablob == bblob) and apixels.shape == bpixels.shape and np.all(apixels == bpixels):\n",
    "            break\n",
    "    else:\n",
    "        compressed.append((afno, ablob, apixels))"
   ]
  },
  {
   "cell_type": "code",
   "execution_count": null,
   "metadata": {},
   "outputs": [],
   "source": [
    "pickle.dump(compressed, open('MSB_Video_1_compressed.blobs', 'wb'))"
   ]
  },
  {
   "cell_type": "markdown",
   "metadata": {},
   "source": [
    "## Eliminate near duplicates from previous frame only"
   ]
  },
  {
   "cell_type": "code",
   "execution_count": null,
   "metadata": {},
   "outputs": [],
   "source": [
    "import itertools\n",
    "compressed = []\n",
    "previous = []\n",
    "current = []\n",
    "for af, ag in itertools.groupby(results, lambda x: x[0]):\n",
    "    for a in ag:\n",
    "        af, ab, ap = a\n",
    "        ax, ay, aw, ah = cv2.boundingRect(ab)\n",
    "        ac = np.array((ax+aw/2, ay+ah/2))\n",
    "        ar = max(aw, ah)\n",
    "        for b in previous:\n",
    "            bf, bb, bp = b\n",
    "            bx, by, bw, bh = cv2.boundingRect(bb)\n",
    "            if len(ab) == len(bb) and np.all(ab == bb) and ap.size == bp.size and np.all(ap == bp):\n",
    "                break # perfect dup\n",
    "            bc = np.array((bx+bw/2, by+bh/2))\n",
    "            br = max(bw, bh)\n",
    "            if np.sqrt(np.sum((ac-bc)**2)) < 3 and abs(ar - br) < 3:\n",
    "                break # near dup\n",
    "        else:\n",
    "            current.append(a)\n",
    "    compressed.extend(previous)\n",
    "    previous = current\n",
    "    current = []\n",
    "            \n",
    "            \n",
    "        "
   ]
  },
  {
   "cell_type": "code",
   "execution_count": null,
   "metadata": {},
   "outputs": [],
   "source": [
    "len(compressed)"
   ]
  }
 ],
 "metadata": {
  "language_info": {
   "name": "python",
   "pygments_lexer": "ipython3"
  }
 },
 "nbformat": 4,
 "nbformat_minor": 2
}
