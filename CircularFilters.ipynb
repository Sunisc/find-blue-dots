{
 "cells": [
  {
   "cell_type": "markdown",
   "metadata": {},
   "source": [
    "# Experiment with finding dots in video using circular filters\n",
    "\n",
    "Gary Bishop July 2018"
   ]
  },
  {
   "cell_type": "code",
   "execution_count": null,
   "metadata": {},
   "outputs": [],
   "source": [
    "%matplotlib inline\n",
    "%config InlineBackend.figure_format = 'svg'\n",
    "# %config InlineBackend.print_figure_kwargs={'bbox_inches':None}\n",
    "import cv2\n",
    "import numpy as np\n",
    "import os.path as osp\n",
    "import matplotlib.pyplot as plt\n",
    "import matplotlib.image as mpimg\n",
    "import matplotlib as mpl\n",
    "from skimage.feature import peak_local_max\n",
    "\n",
    "mpl.rcParams['figure.dpi']= 300\n",
    "\n",
    "def show(im, **kwargs):\n",
    "    '''Show images actual size unless it is tiny\n",
    "    \n",
    "    I'm assuming they are in LAB float32 if the rank is 3\n",
    "    \n",
    "    '''\n",
    "    height, width = im.shape[:2]\n",
    "    if height > 50 and width > 50:\n",
    "        dpi = 100\n",
    "        margin= 50\n",
    "        figsize=((width+2*margin)/dpi, (height+2*margin)/dpi) # inches\n",
    "        left = margin/dpi/figsize[0] #axes ratio\n",
    "        bottom = margin/dpi/figsize[1]\n",
    "\n",
    "        fig = plt.figure(figsize=figsize, dpi=dpi)\n",
    "        fig.subplots_adjust(left=left, bottom=bottom, right=1.-left, top=1.-bottom)\n",
    "    else:\n",
    "        plt.figure()\n",
    "    \n",
    "    args = dict(kwargs)\n",
    "    if 'title' in args:\n",
    "        del args['title']\n",
    "    \n",
    "    if len(im.shape) == 3:\n",
    "        im = cv2.cvtColor(im, cv2.COLOR_LAB2RGB)\n",
    "    elif len(im.shape) == 2:\n",
    "        args['cmap'] = 'gray'                  \n",
    "\n",
    "    plt.imshow(im, **args)\n",
    "    if 'title' in kwargs:\n",
    "        plt.title(kwargs['title'])\n",
    "        \n",
    "def isBlue(im):\n",
    "    mblue = np.array([ 60.4 , -12.2, -35.7 ], dtype=np.float32)\n",
    "    sblue = np.array([ 4.1, 3.2, 8.5], dtype=np.float32)\n",
    "    d2 = np.sum((im - mblue)**2 / sblue**2, axis=2)\n",
    "    return np.exp(-d2 / 10)\n",
    "\n",
    "def circularity(contour):\n",
    "    perimeter = cv2.arcLength(contour, True)\n",
    "    if perimeter == 0:\n",
    "        return False\n",
    "    contour = cv2.convexHull(contour)\n",
    "    area = cv2.contourArea(contour)\n",
    "    result = 4 * np.pi * (area / perimeter ** 2)\n",
    "    return result\n",
    "\n",
    "def isCircular(contour, hull=False):\n",
    "    perimeter = cv2.arcLength(contour, True)\n",
    "    if perimeter == 0:\n",
    "        return False\n",
    "    if hull:\n",
    "        contour = cv2.convexHull(contour)\n",
    "    area = cv2.contourArea(contour)\n",
    "    circularity = 4 * np.pi * (area / perimeter ** 2)\n",
    "    return 0.7 <= circularity <= 1.2\n",
    "    # return 0.5 <= circularity <= 1.4"
   ]
  },
  {
   "cell_type": "code",
   "execution_count": null,
   "metadata": {},
   "outputs": [],
   "source": [
    "vid = '/home/gb/Dropbox/Karen and Gary Shared Files/Videos & Transcripts/MSB/MSB_Video 1 (09-30-17).mp4'\n",
    "vc = cv2.VideoCapture(vid)\n",
    "vc.get(cv2.CAP_PROP_FRAME_COUNT), vc.get(cv2.CAP_PROP_FPS), vc.get(cv2.CAP_PROP_FRAME_WIDTH), vc.get(cv2.CAP_PROP_FRAME_HEIGHT)"
   ]
  },
  {
   "cell_type": "code",
   "execution_count": null,
   "metadata": {},
   "outputs": [],
   "source": [
    "def grabFrame(fn):\n",
    "    vc.set(cv2.CAP_PROP_POS_FRAMES, fn)\n",
    "    rval, im = vc.read()\n",
    "    im = cv2.cvtColor(im.astype(np.float32)/255.0, cv2.COLOR_BGR2LAB)\n",
    "    return im\n",
    "show(grabFrame(800))\n",
    "plt.grid(1)"
   ]
  },
  {
   "cell_type": "code",
   "execution_count": null,
   "metadata": {},
   "outputs": [],
   "source": [
    "def makeCircleFilter(radius, size):\n",
    "    scaleup = 5\n",
    "    ssize = scaleup * size\n",
    "    c = (ssize - 1) / 2\n",
    "    x, y = np.meshgrid(np.arange(ssize)-c, np.arange(ssize)-c)\n",
    "    r = np.sqrt(x**2 + y**2)\n",
    "    im = (r <= radius*scaleup).astype(np.float32)\n",
    "    result = np.zeros((size, size), dtype=np.float32)\n",
    "    for r in range(size):\n",
    "        for c in range(size):\n",
    "            result[r,c] = np.mean(im[r*scaleup:r*scaleup+scaleup, c*scaleup:c*scaleup+scaleup])\n",
    "    return result / np.sum(result)\n",
    "c = makeCircleFilter(15, 31)\n",
    "show(c)\n",
    "plt.figure()\n",
    "plt.plot(c[10,:])"
   ]
  },
  {
   "cell_type": "code",
   "execution_count": null,
   "metadata": {},
   "outputs": [],
   "source": [
    "im = grabFrame(1700)\n",
    "#im = im[250:400,200:350,:]\n",
    "bim = isBlue(im)\n",
    "dbim = cv2.dilate(bim, kernel=np.ones((3,3)), iterations=1)\n",
    "radii = np.arange(4,15,0.5)\n",
    "fwh = 5\n",
    "xyc = (fwh - 1) // 2\n",
    "fs = 3\n",
    "sc = (fs - 1) // 2\n",
    "footprint = np.zeros((fwh,fwh,fs))\n",
    "xysteps = np.arange(fwh) - xyc\n",
    "ys, xs = np.meshgrid(xysteps, xysteps)\n",
    "footprint[:,:,sc] = ys**2 + xs**2 < fwh**2/4\n",
    "footprint[xyc,xyc,:] = 1\n",
    "footprint[:,:,:] = 1\n",
    "print(footprint)\n",
    "stack = np.dstack([ cv2.filter2D(bim, -1, makeCircleFilter(radius, 31)) for radius in radii ])\n",
    "dstack = np.dstack([ cv2.filter2D(dbim, -1, makeCircleFilter(radius, 31)) for radius in radii ])\n",
    "coordinates = peak_local_max(stack, footprint=footprint, threshold_abs=0.5)\n",
    "# filter by dstack threshold\n",
    "circles =  [ (y, x, ndx, radii[ndx], dstack[y, x, ndx]) for y, x, ndx in coordinates if dstack[y, x, ndx] > 0.7 ]\n",
    "for y, x, ndx, radius, value in circles:\n",
    "    print(y, x, ndx, radius, value, value / np.min(stack[y, x, :]))\n",
    "oim = im.copy()\n",
    "for y, x, ndx, radius, value in circles:\n",
    "    cv2.circle(oim, (x,y), int(radii[ndx]), (0,0,0), lineType=cv2.LINE_AA)\n",
    "show(oim)\n",
    "plt.grid(1)"
   ]
  },
  {
   "cell_type": "code",
   "execution_count": null,
   "metadata": {},
   "outputs": [],
   "source": [
    "plt.plot(stack[59,74,:])"
   ]
  },
  {
   "cell_type": "code",
   "execution_count": null,
   "metadata": {},
   "outputs": [],
   "source": [
    "plt.plot(stack[59,74,:])"
   ]
  },
  {
   "cell_type": "code",
   "execution_count": null,
   "metadata": {},
   "outputs": [],
   "source": [
    "print(footprint[:,:,0])"
   ]
  },
  {
   "cell_type": "code",
   "execution_count": null,
   "metadata": {},
   "outputs": [],
   "source": []
  },
  {
   "cell_type": "code",
   "execution_count": null,
   "metadata": {},
   "outputs": [],
   "source": [
    "plt.imshow(bim, cmap='gray')\n",
    "plt.grid('on')"
   ]
  },
  {
   "cell_type": "code",
   "execution_count": null,
   "metadata": {},
   "outputs": [],
   "source": [
    "im = grabFrame(1700)\n",
    "minRadius = 5.5\n",
    "maxRadius = 15\n",
    "kernelWidth = int(2*maxRadius+1)\n",
    "radii = np.arange(minRadius,maxRadius,0.5)\n",
    "circleFilters = [ makeCircleFilter(radius, kernelWidth) for radius in radii ]\n",
    "footprint = np.ones((3,3,3))\n",
    "def getCircles(im):\n",
    "    bim = isBlue(im)\n",
    "    #bim = cv2.dilate(bim, kernel=np.ones((3,3)), iterations=1)\n",
    "    #bim = cv2.erode(bim, kernel=np.ones((3,3)), iterations=1)\n",
    "    stack = np.dstack([ cv2.filter2D(bim, -1, kernel) for kernel in circleFilters ])\n",
    "    coordinates = peak_local_max(stack, footprint=footprint, threshold_abs=0.3)\n",
    "    return [ (y, x, ndx, radii[ndx], stack[y, x, ndx]) for y, x, ndx in coordinates ]\n",
    "    \n",
    "circles = getCircles(im)\n",
    "for y, x, ndx, radius, value in circles:\n",
    "    print(y, x, ndx, radius, value, value / np.min(stack[y, x, :]))\n",
    "oim = im.copy()\n",
    "for y, x, ndx, radius, value in circles:\n",
    "    if value / np.min(stack[y, x, :]) > 2:\n",
    "        cv2.circle(oim, (x,y), int(radii[ndx]), (0,0,0), lineType=cv2.LINE_AA)\n",
    "show(oim)\n",
    "plt.grid(1)\n",
    "print(np.max(bim), np.max(stack))"
   ]
  },
  {
   "cell_type": "code",
   "execution_count": null,
   "metadata": {},
   "outputs": [],
   "source": [
    "plt.imshow(stack[200:300,300:400,3], cmap='gray')\n",
    "plt.grid(1)"
   ]
  },
  {
   "cell_type": "code",
   "execution_count": null,
   "metadata": {},
   "outputs": [],
   "source": [
    "plt.plot(radii, stack[79,315,:])\n",
    "plt.plot(radii, stack[355,241,:])"
   ]
  },
  {
   "cell_type": "markdown",
   "metadata": {},
   "source": [
    "## Find all circles and save them away"
   ]
  },
  {
   "cell_type": "code",
   "execution_count": null,
   "metadata": {},
   "outputs": [],
   "source": [
    "results = []\n",
    "nframes = int(vc.get(cv2.CAP_PROP_FRAME_COUNT))\n",
    "for fno in range(100, 1100, 1):\n",
    "    if fno % 100 == 0:\n",
    "        print(fno, len(results))\n",
    "    frame = grabFrame(fno)\n",
    "    for y, x, ndx, radius, value in getCircles(frame):\n",
    "        r = int(radius+0.5)\n",
    "        y1 = max(0, y-r)\n",
    "        y2 = min(frame.shape[0], y+r+1)\n",
    "        x1 = max(0, x-r)\n",
    "        x2 = min(frame.shape[1], x+r+1)\n",
    "        pixels = frame[y1:y2, x1:x2].copy()\n",
    "        results.append((fno, y, x, radius, value, pixels))\n"
   ]
  },
  {
   "cell_type": "code",
   "execution_count": null,
   "metadata": {},
   "outputs": [],
   "source": [
    "import pickle\n",
    "pickle.dump(results, open('MSB_Video_1.circles', 'wb'))"
   ]
  },
  {
   "cell_type": "code",
   "execution_count": null,
   "metadata": {},
   "outputs": [],
   "source": []
  }
 ],
 "metadata": {
  "language_info": {
   "name": "python",
   "pygments_lexer": "ipython3"
  }
 },
 "nbformat": 4,
 "nbformat_minor": 2
}
