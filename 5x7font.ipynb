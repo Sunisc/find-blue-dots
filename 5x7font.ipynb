{
 "cells": [
  {
   "cell_type": "markdown",
   "metadata": {},
   "source": [
    "# Experiment with a 5x7 font for matching the numbers in the dots\n",
    "\n",
    "Gary Bishop July 2018"
   ]
  },
  {
   "cell_type": "code",
   "execution_count": null,
   "metadata": {},
   "outputs": [],
   "source": [
    "# a font I found online\n",
    "digits = np.array([\n",
    "    0x3E, 0x41, 0x41, 0x41, 0x3E, # 0\n",
    "    0x00, 0x42, 0x7F, 0x40, 0x00, # 1\n",
    "    0x42, 0x61, 0x51, 0x49, 0x46, # 2\n",
    "    # 0x21, 0x41, 0x45, 0x4B, 0x31, # 3\n",
    "    # 0x41, 0x49, 0x49, 0x49, 0x36, # 3\n",
    "    #0x22, 0x49, 0x49, 0x5d, 0x36, # 3\n",
    "    #0x0, 0x49, 0x49, 0x49, 0x36, # 3\n",
    "    #0x0, 0x49, 0x49, 0x5d, 0x36, # 3\n",
    "    0x0, 0x6d, 0x6d, 0x6f, 0x3b, # 3\n",
    "    0x18, 0x14, 0x12, 0x7F, 0x10, # 4\n",
    "    0x27, 0x45, 0x45, 0x45, 0x39, # 5\n",
    "    0x3C, 0x4A, 0x49, 0x49, 0x30, # 6\n",
    "    0x01, 0x71, 0x09, 0x05, 0x03, # 7\n",
    "    0x36, 0x49, 0x49, 0x49, 0x36, # 8\n",
    "    0x06, 0x49, 0x49, 0x29, 0x1E, # 9\n",
    "])\n",
    "digits.shape = (10,5)\n",
    "def toTemplate(d):\n",
    "    t = np.zeros((9,7), dtype=np.uint8)\n",
    "    for y in range(7):\n",
    "        for x in range(5):\n",
    "            if d[x] & (1<<y):\n",
    "                t[y+1,x+1] = 255\n",
    "    return 255 - t\n",
    "\n",
    "def fromTemplate(t):\n",
    "    d = np.zeros(5, dtype=int)\n",
    "    for y in range(7):\n",
    "        for x in range(5):\n",
    "            if t[y+1,x+1] == 0:\n",
    "                d[x] |= 1<<y\n",
    "    return ', '.join([hex(v) for v in d])\n",
    "\n",
    "print(toTemplate(digits[3]))\n",
    "print(fromTemplate(toTemplate(digits[3])))"
   ]
  },
  {
   "cell_type": "code",
   "execution_count": null,
   "metadata": {},
   "outputs": [],
   "source": [
    "s3 = '''\n",
    "|       |\n",
    "|  **** |\n",
    "|    ** |\n",
    "|  ***  |\n",
    "|  **** |\n",
    "|     * |\n",
    "|  **** |\n",
    "|  ***  |\n",
    "|       |\n",
    "'''\n",
    "print(fromEdit(s3))\n",
    "fromTemplate(fromEdit(s3))"
   ]
  },
  {
   "cell_type": "code",
   "execution_count": null,
   "metadata": {},
   "outputs": [],
   "source": [
    "toEditFormat = \"\"\"'''\n",
    "{data}\n",
    "'''\n",
    "\"\"\"\n",
    "def toEdit(t):\n",
    "    lines = []\n",
    "    for row in t:\n",
    "        line = []\n",
    "        for value in row:\n",
    "            line.append(' ' if value else '*')\n",
    "        lines.append('|' + ''.join(line) + '|')\n",
    "    return toEditFormat.format(data='\\n'.join(lines))\n",
    "\n",
    "def fromEdit(s):\n",
    "    lines = s.split('\\n')[1:]\n",
    "    t = np.zeros((9,7), dtype=np.uint8)\n",
    "    for y, line in enumerate(lines[:-1]):\n",
    "        for x, char in enumerate(line[1:-1]):\n",
    "            t[y,x] = 255 if char == ' ' else 0\n",
    "    return t\n",
    "\n",
    "\n",
    "print(toEdit(toTemplate(digits[8])))"
   ]
  },
  {
   "cell_type": "code",
   "execution_count": null,
   "metadata": {},
   "outputs": [],
   "source": [
    "template = toTemplate(digits[3])\n",
    "f = grabFrame(80)\n",
    "b = isBlue(f)\n",
    "b = (255 * b).astype(np.uint8)\n",
    "res = cv2.matchTemplate(b, template, cv2.TM_CCOEFF_NORMED)\n",
    "min_val, max_val, min_loc, max_loc = cv2.minMaxLoc(res)\n",
    "print(max_val, max_loc)\n",
    "show(res > 0.7 * max_val)\n",
    "show(f)"
   ]
  },
  {
   "cell_type": "code",
   "execution_count": null,
   "metadata": {},
   "outputs": [],
   "source": [
    "# author: qzane@live.com\n",
    "# reference: http://stackoverflow.com/a/23565051\n",
    "# further reading: http://docs.opencv.org/master/da/d56/group__text__detect.html#gsc.tab=0\n",
    "def text_detect(img,ele_size=(8,3)): #\n",
    "    if len(img.shape)==3:\n",
    "        img = cv2.cvtColor(img,cv2.COLOR_BGR2GRAY)\n",
    "    img_sobel = cv2.Sobel(img,cv2.CV_8U,1,0)#same as default,None,3,1,0,cv2.BORDER_DEFAULT)\n",
    "    img_threshold = cv2.threshold(img_sobel,0,255,cv2.THRESH_OTSU+cv2.THRESH_BINARY)\n",
    "    element = cv2.getStructuringElement(cv2.MORPH_RECT,ele_size)\n",
    "    img_threshold = cv2.morphologyEx(img_threshold[1],cv2.MORPH_CLOSE,element)\n",
    "    contours = cv2.findContours(img_threshold,0,1)\n",
    "    Rect = [cv2.boundingRect(i) for i in contours[1] ]#if i.shape[0]>100]\n",
    "    RectP = [(int(i[0]-i[2]*0.08),int(i[1]-i[3]*0.08),int(i[0]+i[2]*1.1),int(i[1]+i[3]*1.1)) for i in Rect]\n",
    "    return RectP"
   ]
  },
  {
   "cell_type": "code",
   "execution_count": null,
   "metadata": {},
   "outputs": [],
   "source": []
  },
  {
   "cell_type": "code",
   "execution_count": null,
   "metadata": {},
   "outputs": [],
   "source": []
  },
  {
   "cell_type": "code",
   "execution_count": null,
   "metadata": {},
   "outputs": [],
   "source": []
  }
 ],
 "metadata": {
  "language_info": {
   "name": "python",
   "pygments_lexer": "ipython3"
  }
 },
 "nbformat": 4,
 "nbformat_minor": 2
}
