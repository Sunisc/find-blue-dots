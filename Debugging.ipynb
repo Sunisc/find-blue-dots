{
 "cells": [
  {
   "cell_type": "markdown",
   "metadata": {},
   "source": [
    "# what is wrong with my labeled blobs?"
   ]
  },
  {
   "cell_type": "code",
   "execution_count": null,
   "metadata": {},
   "outputs": [],
   "source": [
    "import cv2\n",
    "import numpy as np\n",
    "import pandas as pd\n",
    "import Args\n",
    "import pickle\n",
    "\n",
    "data = pd.read_pickle('output.labeled.bz2')\n",
    "\n",
    "model = pickle.load(open('models/LR1.pkl', 'rb'))"
   ]
  },
  {
   "cell_type": "code",
   "execution_count": null,
   "metadata": {},
   "outputs": [],
   "source": [
    "data.describe()"
   ]
  },
  {
   "cell_type": "code",
   "execution_count": null,
   "metadata": {},
   "outputs": [],
   "source": [
    "# %load LabelBlobs.py\n",
    "'''\n",
    "Label the blobs using a previously trained \n",
    "\n",
    "Gary Bishop July 2018\n",
    "'''\n",
    "\n",
    "import cv2\n",
    "import numpy as np\n",
    "import pandas as pd\n",
    "import Args\n",
    "import pickle\n",
    "\n",
    "args = Args.Parse(\n",
    "    inblobs='output.blobs.bz2',\n",
    "    outblobs='output.labeled.bz2',\n",
    "    model='models/LR1.pkl'\n",
    ")\n",
    "\n",
    "data = pd.read_pickle(args.inblobs)"
   ]
  },
  {
   "cell_type": "code",
   "execution_count": null,
   "metadata": {},
   "outputs": [],
   "source": [
    "model = pickle.load(open(args.model, 'rb'))"
   ]
  },
  {
   "cell_type": "code",
   "execution_count": null,
   "metadata": {},
   "outputs": [],
   "source": [
    "def isBlue(im):\n",
    "    mblue = np.array([60.4, -12.2, -35.7], dtype=np.float32)\n",
    "    sblue = np.array([4.1, 3.2, 8.5], dtype=np.float32)\n",
    "    d2 = np.sum((im - mblue)**2 / sblue**2, axis=2)\n",
    "    return np.exp(-d2 / 20)\n",
    "\n",
    "\n",
    "def circularity(contour):\n",
    "    perimeter = cv2.arcLength(contour, True)\n",
    "    if perimeter == 0:\n",
    "        return False\n",
    "    area = cv2.contourArea(contour)\n",
    "    result = 4 * np.pi * (area / perimeter ** 2)\n",
    "    return result\n",
    "\n",
    "\n",
    "def isCircular(contour, hull=False):\n",
    "    perimeter = cv2.arcLength(contour, True)\n",
    "    if perimeter == 0:\n",
    "        return False\n",
    "    if hull:\n",
    "        contour = cv2.convexHull(contour)\n",
    "    area = cv2.contourArea(contour)\n",
    "    circularity = 4 * np.pi * (area / perimeter ** 2)\n",
    "    return 0.7 <= circularity <= 1.2\n",
    "    # return 0.5 <= circularity <= 1.4\n",
    "\n",
    "\n",
    "def isInside(contour, size):\n",
    "    r = np.zeros(size[:2], dtype=np.uint8)\n",
    "    cv2.drawContours(r, [contour - np.min(contour, axis=0)],\n",
    "                     -1, 255, cv2.FILLED)\n",
    "    return r == 255\n",
    "\n",
    "\n",
    "def getFeatures(df):\n",
    "    result = []\n",
    "    for row in df.itertuples():\n",
    "        plt.figure()\n",
    "        plt.imshow(row.pixels)\n",
    "        lab = cv2.cvtColor(np.float32(row.pixels) / 255, cv2.COLOR_RGB2LAB)\n",
    "        bim = isBlue(lab)\n",
    "        plt.figure()\n",
    "        plt.imshow(bim, cmap='gray')\n",
    "        h, w = bim.shape\n",
    "        circ = circularity(row.contour)\n",
    "        peri = cv2.arcLength(row.contour, True)\n",
    "        area = cv2.contourArea(row.contour)\n",
    "        roughness = cv2.arcLength(cv2.convexHull(row.contour), True) / peri\n",
    "        isin = isInside(row.contour, bim.shape)\n",
    "        fracin = np.sum(isin) / (h * w)\n",
    "        std0 = np.std(bim[isin])\n",
    "        std1 = np.std(cv2.dilate(bim, np.ones((3, 3)))[isin])\n",
    "        print(circ, peri, area, roughness, fracin, std0, std1)\n",
    "        result.append([circ, peri, area, roughness, fracin, std0, std1])\n",
    "    return np.array(result)\n",
    "\n",
    "\n",
    "features = getFeatures(data[8:9])\n",
    "\n",
    "labels = model.predict(features)\n",
    "labels\n",
    "\n",
    "#data.to_pickle(args.outblobs)"
   ]
  },
  {
   "cell_type": "code",
   "execution_count": null,
   "metadata": {},
   "outputs": [],
   "source": [
    "import matplotlib.pyplot as plt\n",
    "import matplotlib.image as mpimg\n",
    "import matplotlib as mpl\n",
    "\n",
    "plt.imshow(data.iloc[8].pixels)\n",
    "print(data.iloc[8].fnos)"
   ]
  },
  {
   "cell_type": "code",
   "execution_count": null,
   "metadata": {},
   "outputs": [],
   "source": [
    "data.at[1892, 'isdot']"
   ]
  },
  {
   "cell_type": "code",
   "execution_count": null,
   "metadata": {},
   "outputs": [],
   "source": [
    "edited = pd.read_pickle('output.edited.bz2')"
   ]
  },
  {
   "cell_type": "code",
   "execution_count": null,
   "metadata": {},
   "outputs": [],
   "source": []
  }
 ],
 "metadata": {
  "language_info": {
   "name": "python",
   "pygments_lexer": "ipython3"
  }
 },
 "nbformat": 4,
 "nbformat_minor": 2
}
