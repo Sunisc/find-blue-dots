{
 "cells": [
  {
   "cell_type": "markdown",
   "metadata": {},
   "source": [
    "# Rett Video Circle Features\n",
    "\n",
    "I'm trying to distinguish the good from the bad"
   ]
  },
  {
   "cell_type": "code",
   "execution_count": null,
   "metadata": {},
   "outputs": [],
   "source": [
    "# experiment with auto reloading\n",
    "%load_ext autoreload\n",
    "%autoreload 1"
   ]
  },
  {
   "cell_type": "code",
   "execution_count": null,
   "metadata": {},
   "outputs": [],
   "source": [
    "import pickle\n",
    "positive = pickle.load(open('MSB_Video_1_positive.blobs', 'rb'))\n",
    "negative = pickle.load(open('MSB_Video_1_negative.blobs', 'rb'))\n",
    "both = positive.copy()\n",
    "both.extend(negative)"
   ]
  },
  {
   "cell_type": "code",
   "execution_count": null,
   "metadata": {},
   "outputs": [],
   "source": [
    "%aimport ImageChooser\n",
    "from ImageChooser import ImageChooser\n",
    "\n",
    "%matplotlib inline\n",
    "%config InlineBackend.figure_format = 'svg'\n",
    "# %config InlineBackend.print_figure_kwargs={'bbox_inches':None}\n",
    "import cv2\n",
    "import numpy as np\n",
    "import os.path as osp\n",
    "import matplotlib.pyplot as plt\n",
    "import matplotlib.image as mpimg\n",
    "import matplotlib as mpl\n",
    "\n",
    "mpl.rcParams['figure.dpi']= 200\n",
    "\n",
    "def show(im, **kwargs):\n",
    "    '''Show images actual size unless it is tiny\n",
    "    \n",
    "    I'm assuming they are in LAB float32 if the rank is 3\n",
    "    \n",
    "    '''\n",
    "    height, width = im.shape[:2]\n",
    "    if height > 50 and width > 50:\n",
    "        dpi = 100\n",
    "        margin= 50\n",
    "        figsize=((width+2*margin)/dpi, (height+2*margin)/dpi) # inches\n",
    "        left = margin/dpi/figsize[0] #axes ratio\n",
    "        bottom = margin/dpi/figsize[1]\n",
    "\n",
    "        fig = plt.figure(figsize=figsize, dpi=dpi)\n",
    "        fig.subplots_adjust(left=left, bottom=bottom, right=1.-left, top=1.-bottom)\n",
    "    else:\n",
    "        plt.figure()\n",
    "    \n",
    "    args = dict(kwargs)\n",
    "    if 'title' in args:\n",
    "        del args['title']\n",
    "    \n",
    "    if len(im.shape) == 3:\n",
    "        im = cv2.cvtColor(im, cv2.COLOR_LAB2RGB)\n",
    "    elif len(im.shape) == 2:\n",
    "        args['cmap'] = 'gray'                  \n",
    "\n",
    "    plt.imshow(im, **args)\n",
    "    if 'title' in kwargs:\n",
    "        plt.title(kwargs['title'])\n",
    "        \n",
    "def isBlue(im):\n",
    "    mblue = np.array([ 60.4 , -12.2, -35.7 ], dtype=np.float32)\n",
    "    sblue = np.array([ 4.1, 3.2, 8.5], dtype=np.float32)\n",
    "    d2 = np.sum((im - mblue)**2 / sblue**2, axis=2)\n",
    "    return np.exp(-d2 / 20)\n",
    "\n",
    "def circularity(contour):\n",
    "    perimeter = cv2.arcLength(contour, True)\n",
    "    if perimeter == 0:\n",
    "        return False\n",
    "    area = cv2.contourArea(contour)\n",
    "    result = 4 * np.pi * (area / perimeter ** 2)\n",
    "    return result\n",
    "\n",
    "def isCircular(contour, hull=False):\n",
    "    perimeter = cv2.arcLength(contour, True)\n",
    "    if perimeter == 0:\n",
    "        return False\n",
    "    if hull:\n",
    "        contour = cv2.convexHull(contour)\n",
    "    area = cv2.contourArea(contour)\n",
    "    circularity = 4 * np.pi * (area / perimeter ** 2)\n",
    "    return 0.7 <= circularity <= 1.2\n",
    "    # return 0.5 <= circularity <= 1.4\n",
    "\n",
    "def isInside(contour, size):\n",
    "    r = np.zeros(size[:2], dtype=np.uint8)\n",
    "    cv2.drawContours(r, [ contour - np.min(contour, axis=0) ], -1, 255, cv2.FILLED)\n",
    "    return r == 255"
   ]
  },
  {
   "cell_type": "code",
   "execution_count": null,
   "metadata": {},
   "outputs": [],
   "source": [
    "show(isInside(positive[0][1], positive[0][2].shape))"
   ]
  },
  {
   "cell_type": "code",
   "execution_count": null,
   "metadata": {},
   "outputs": [],
   "source": [
    "def getFeatures(blobs, value):\n",
    "    features = []\n",
    "    for fno, contour, pixels in blobs:\n",
    "        bim = isBlue(pixels)\n",
    "        h, w = bim.shape\n",
    "        circ = circularity(contour)\n",
    "        perimeter = cv2.arcLength(contour, True)\n",
    "        area = cv2.contourArea(contour)\n",
    "        roughness = cv2.arcLength(cv2.convexHull(contour), True) / perimeter\n",
    "        isin = isInside(contour, bim.shape)\n",
    "        fracin = np.sum(isin) / (h*w)\n",
    "        std0 = np.std(bim[isin])\n",
    "        std1 = np.std(cv2.dilate(bim, np.ones((3,3)))[isin])\n",
    "        features.append([circ, perimeter, area, roughness, fracin, std0, std1])\n",
    "    features = np.array(features)\n",
    "    values = value * np.ones(len(blobs))\n",
    "    return features, values"
   ]
  },
  {
   "cell_type": "code",
   "execution_count": null,
   "metadata": {},
   "outputs": [],
   "source": [
    "pos_data, pos_value = getFeatures(positive, 1)\n",
    "neg_data, neg_value = getFeatures(negative, 0)\n",
    "data = np.concatenate([pos_data, neg_data])\n",
    "value = np.concatenate([pos_value, neg_value])"
   ]
  },
  {
   "cell_type": "code",
   "execution_count": null,
   "metadata": {},
   "outputs": [],
   "source": [
    "value[918] = 1\n",
    "value[917] = 1\n",
    "value[1259] = 1\n",
    "value[1260] = 1"
   ]
  },
  {
   "cell_type": "code",
   "execution_count": null,
   "metadata": {},
   "outputs": [],
   "source": [
    "from sklearn.pipeline import make_pipeline\n",
    "from sklearn.preprocessing import StandardScaler\n",
    "from sklearn.linear_model import LogisticRegression\n",
    "from sklearn.model_selection import train_test_split\n",
    "\n",
    "model = make_pipeline(StandardScaler(), LogisticRegression())"
   ]
  },
  {
   "cell_type": "code",
   "execution_count": null,
   "metadata": {},
   "outputs": [],
   "source": [
    "x_train, x_test, y_train, y_test = train_test_split(data, value, test_size=0.1)"
   ]
  },
  {
   "cell_type": "code",
   "execution_count": null,
   "metadata": {},
   "outputs": [],
   "source": [
    "model.fit(x_train, y_train)"
   ]
  },
  {
   "cell_type": "code",
   "execution_count": null,
   "metadata": {},
   "outputs": [],
   "source": [
    "model.named_steps['logisticregression'].n_iter_"
   ]
  },
  {
   "cell_type": "code",
   "execution_count": null,
   "metadata": {},
   "outputs": [],
   "source": [
    "model.named_steps['logisticregression'].coef_"
   ]
  },
  {
   "cell_type": "code",
   "execution_count": null,
   "metadata": {},
   "outputs": [],
   "source": [
    "model.named_steps['logisticregression'].intercept_"
   ]
  },
  {
   "cell_type": "code",
   "execution_count": null,
   "metadata": {},
   "outputs": [],
   "source": [
    "score = model.score(x_test, y_test)\n",
    "print(score)"
   ]
  },
  {
   "cell_type": "code",
   "execution_count": null,
   "metadata": {},
   "outputs": [],
   "source": [
    "model.score(data, value)"
   ]
  },
  {
   "cell_type": "code",
   "execution_count": null,
   "metadata": {},
   "outputs": [],
   "source": [
    "pickle.dump(model, open('models/LR1.pkl', 'wb'))"
   ]
  },
  {
   "cell_type": "code",
   "execution_count": null,
   "metadata": {},
   "outputs": [],
   "source": [
    "for i, p in enumerate(logisticRegr.predict(data_std)):\n",
    "    if p != value[i]:\n",
    "        show(both[i][2], title=\"{} should be {}\".format(i, value[i]))"
   ]
  },
  {
   "cell_type": "code",
   "execution_count": null,
   "metadata": {},
   "outputs": [],
   "source": [
    "goodBlobs = [ both[i] for i, p in enumerate(logisticRegr.predict(data_std)) if p ]\n",
    "goodBlobs.sort(key = lambda b: b[0])"
   ]
  },
  {
   "cell_type": "code",
   "execution_count": null,
   "metadata": {},
   "outputs": [],
   "source": [
    "def plotBlobs(blobs):\n",
    "    ncols = 10\n",
    "    nrows = (len(blobs) + ncols - 1) // ncols\n",
    "    perCol=1.7\n",
    "    plt.figure(figsize=(perCol*ncols,perCol*nrows), dpi=100)\n",
    "    for i, (fno, blob, pixels) in enumerate(blobs):\n",
    "        plt.subplot(nrows, ncols, i+1)\n",
    "        im = cv2.cvtColor(pixels, cv2.COLOR_LAB2RGB)\n",
    "        plt.imshow(im)\n",
    "        plt.axis('off')"
   ]
  },
  {
   "cell_type": "markdown",
   "metadata": {},
   "source": [
    "## Good"
   ]
  },
  {
   "cell_type": "code",
   "execution_count": null,
   "metadata": {},
   "outputs": [],
   "source": [
    "plotBlobs(goodBlobs)"
   ]
  },
  {
   "cell_type": "code",
   "execution_count": null,
   "metadata": {},
   "outputs": [],
   "source": []
  },
  {
   "cell_type": "code",
   "execution_count": null,
   "metadata": {},
   "outputs": [],
   "source": []
  },
  {
   "cell_type": "code",
   "execution_count": null,
   "metadata": {},
   "outputs": [],
   "source": []
  },
  {
   "cell_type": "code",
   "execution_count": null,
   "metadata": {},
   "outputs": [],
   "source": []
  },
  {
   "cell_type": "code",
   "execution_count": null,
   "metadata": {},
   "outputs": [],
   "source": []
  },
  {
   "cell_type": "code",
   "execution_count": null,
   "metadata": {},
   "outputs": [],
   "source": []
  },
  {
   "cell_type": "markdown",
   "metadata": {},
   "source": [
    "## Fool with dct"
   ]
  },
  {
   "cell_type": "code",
   "execution_count": null,
   "metadata": {},
   "outputs": [],
   "source": [
    "im = positive[0][2]\n",
    "show(im)\n",
    "bim = isBlue(im)\n",
    "show(bim)"
   ]
  },
  {
   "cell_type": "code",
   "execution_count": null,
   "metadata": {},
   "outputs": [],
   "source": [
    "from scipy.fftpack import dct\n",
    "def dct2(im):\n",
    "    return dct(dct(im, axis=0, norm='ortho'), axis=1, norm='ortho')\n",
    "\n",
    "\n",
    "def blockDCT2(im):\n",
    "    ishape = np.array(im.shape)\n",
    "    oshape = ((ishape + 7) // 8) * 8\n",
    "    pads = oshape - ishape\n",
    "    im = np.pad(im, pads, 'symmetric')\n",
    "    \n",
    "    s = np.zeros((8,8))\n",
    "    d = 0\n",
    "    for r in range(0, oshape[0], 8):\n",
    "        for c in range(0, oshape[1], 8):\n",
    "            b = im[r:r+8,c:c+8]\n",
    "            s += dct2(b - np.mean(b))**2\n",
    "            d += 1\n",
    "    return np.sqrt(s / d)\n",
    "\n",
    "\n",
    "def meanBlockDCT2(im, axis=0):\n",
    "    '''block dct of mean of given axis'''\n",
    "    m = np.mean(im, axis=axis)\n",
    "    r = np.zeros(8 * ((len(m) + 7) // 8))\n",
    "    r[0:len(m)] = m\n",
    "    \n",
    "    s = np.zeros(8)\n",
    "    d = 0\n",
    "    for i in range(0, len(r)-4, 4):\n",
    "        b = r[i:i+8]\n",
    "        s += dct(b - np.mean(b), norm='ortho')**2\n",
    "        d += 1\n",
    "    return np.sqrt(s / d)\n",
    "\n",
    "\n",
    "def idct2(im):\n",
    "    return dct(dct(im, axis=0, norm='ortho', type=3), axis=1, norm='ortho', type=3)\n",
    "\n",
    "\n",
    "def look(im):\n",
    "    bim = isBlue(im)\n",
    "    plt.plot(meanBlockDCT2(bim))\n",
    "    plt.plot(meanBlockDCT2(bim, axis=1))\n",
    "    show(blockDCT2(bim))\n",
    "    show(bim)\n",
    "look(im)"
   ]
  },
  {
   "cell_type": "code",
   "execution_count": null,
   "metadata": {},
   "outputs": [],
   "source": [
    "look(negative[2][2])"
   ]
  },
  {
   "cell_type": "code",
   "execution_count": null,
   "metadata": {},
   "outputs": [],
   "source": [
    "look(positive[2][2])"
   ]
  },
  {
   "cell_type": "code",
   "execution_count": null,
   "metadata": {},
   "outputs": [],
   "source": [
    "s = [ blob for blob in positive if blob[0] == 1717 ]\n",
    "look(s[0][2])"
   ]
  },
  {
   "cell_type": "code",
   "execution_count": null,
   "metadata": {},
   "outputs": [],
   "source": [
    "show(idct2(dct2(im)))"
   ]
  },
  {
   "cell_type": "code",
   "execution_count": null,
   "metadata": {},
   "outputs": [],
   "source": [
    "t = np.zeros((16,16))\n",
    "t[0,2] = 1\n",
    "show(idct2(t))"
   ]
  },
  {
   "cell_type": "code",
   "execution_count": null,
   "metadata": {},
   "outputs": [],
   "source": [
    "i = np.zeros((16,16))\n",
    "i[:,::3] = 1\n",
    "show(i)\n",
    "show(dct2(i))"
   ]
  },
  {
   "cell_type": "markdown",
   "metadata": {},
   "source": [
    "## Fool with those lines that distore the contour"
   ]
  },
  {
   "cell_type": "code",
   "execution_count": null,
   "metadata": {},
   "outputs": [],
   "source": [
    "bad = both[626]\n",
    "show(bad[2])\n",
    "bbad = isBlue(bad)\n",
    "\n"
   ]
  },
  {
   "cell_type": "code",
   "execution_count": null,
   "metadata": {},
   "outputs": [],
   "source": [
    "def findBlobs(image, verbose=True):\n",
    "    # find the special blue\n",
    "    blue = isBlue(image)\n",
    "    _, blue = cv2.threshold(blue, 0.6, 255, cv2.THRESH_BINARY)\n",
    "    blue = blue.astype(np.uint8)\n",
    "    # dilate a bit to fill in noise\n",
    "    blue = cv2.dilate(blue, np.ones((3,3), dtype=np.uint8), iterations=1)\n",
    "    blue = cv2.erode(blue, np.ones((3,3), dtype=np.uint8), iterations=1)\n",
    "    \n",
    "    if verbose:\n",
    "        show(blue)\n",
    "    # get the contours of the blue regions\n",
    "    im2, contours, hierarchy = cv2.findContours(blue, cv2.RETR_EXTERNAL, cv2.CHAIN_APPROX_NONE)\n",
    "    if verbose:\n",
    "        oim = image.copy()\n",
    "        cv2.drawContours(oim, contours, -1, (0,0,0), 1)\n",
    "        show(oim)\n",
    "    # filter by area\n",
    "    if True:\n",
    "        minArea = np.pi * 4**2\n",
    "        contours = [np.squeeze(contour) for contour in contours if minArea < cv2.contourArea(contour)]\n",
    "        if verbose:\n",
    "            oim = image.copy()\n",
    "            cv2.drawContours(oim, contours, -1, (0,0,0), 1)\n",
    "            show(oim)\n",
    "    if False:\n",
    "        # filter by circularity\n",
    "        contours = [contour for contour in contours if isCircular(contour)]\n",
    "        if verbose:\n",
    "            oim = image.copy()\n",
    "            cv2.drawContours(oim, contours, -1, (0,0,0), 1)\n",
    "            show(oim)\n",
    "\n",
    "    return contours"
   ]
  },
  {
   "cell_type": "code",
   "execution_count": null,
   "metadata": {},
   "outputs": [],
   "source": [
    "contours = findBlobs(bad[2])"
   ]
  },
  {
   "cell_type": "code",
   "execution_count": null,
   "metadata": {},
   "outputs": [],
   "source": [
    "epsilon = 0.03*cv2.arcLength(c[0],True)\n",
    "approx = cv2.approxPolyDP(c[0],epsilon,True)\n",
    "oim = bad[2].copy()\n",
    "cv2.drawContours(oim, approx, -1, (0,0,0), 1)\n",
    "show(oim)\n"
   ]
  },
  {
   "cell_type": "code",
   "execution_count": null,
   "metadata": {},
   "outputs": [],
   "source": [
    "c = contours[0]"
   ]
  },
  {
   "cell_type": "code",
   "execution_count": null,
   "metadata": {},
   "outputs": [],
   "source": [
    "a = cv2.contourArea(c)\n",
    "print(a)\n",
    "cm = np.mean(c, axis=0)\n",
    "d = np.sum((c - cm)**2, axis=1)\n",
    "c = c[d != np.max(d)]\n",
    "oim = bad[2].copy()\n",
    "cv2.drawContours(oim, [c], -1, (0,0,0), 1)\n",
    "show(oim)"
   ]
  },
  {
   "cell_type": "code",
   "execution_count": null,
   "metadata": {},
   "outputs": [],
   "source": []
  }
 ],
 "metadata": {
  "language_info": {
   "name": "python",
   "pygments_lexer": "ipython3"
  }
 },
 "nbformat": 4,
 "nbformat_minor": 2
}
