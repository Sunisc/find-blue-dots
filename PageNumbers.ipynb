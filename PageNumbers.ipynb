{
 "cells": [
  {
   "cell_type": "markdown",
   "metadata": {},
   "source": [
    "# Experiment with page numbers in the Rett Girls videos\n",
    "\n",
    "June 2018"
   ]
  },
  {
   "cell_type": "code",
   "execution_count": null,
   "metadata": {},
   "outputs": [],
   "source": [
    "%matplotlib notebook\n",
    "%config InlineBackend.figure_format = 'svg'\n",
    "# %config InlineBackend.print_figure_kwargs={'bbox_inches':None}\n",
    "import cv2\n",
    "import numpy as np\n",
    "import os.path as osp\n",
    "import matplotlib.pyplot as plt\n",
    "import matplotlib.image as mpimg"
   ]
  },
  {
   "cell_type": "code",
   "execution_count": null,
   "metadata": {},
   "outputs": [],
   "source": [
    "vid = '/home/gb/Dropbox/Karen and Gary Shared Files/Videos & Transcripts/MSB/MSB_Video 1 (09-30-17).mp4'\n",
    "\n",
    "osp.exists(vid)"
   ]
  },
  {
   "cell_type": "code",
   "execution_count": null,
   "metadata": {},
   "outputs": [],
   "source": [
    "vc = cv2.VideoCapture(vid)\n",
    "vc.get(cv2.CAP_PROP_FRAME_COUNT), vc.get(cv2.CAP_PROP_FPS), vc.get(cv2.CAP_PROP_FRAME_WIDTH), vc.get(cv2.CAP_PROP_FRAME_HEIGHT)"
   ]
  },
  {
   "cell_type": "code",
   "execution_count": null,
   "metadata": {},
   "outputs": [],
   "source": [
    "vc.set(cv2.CAP_PROP_POS_FRAMES, 3500)\n",
    "rval, im = vc.read()\n",
    "im = cv2.cvtColor(im, cv2.COLOR_BGR2GRAY)\n",
    "plt.figure()\n",
    "plt.imshow(im[42:60,-45:-25], cmap='gray')"
   ]
  },
  {
   "cell_type": "code",
   "execution_count": null,
   "metadata": {},
   "outputs": [],
   "source": [
    "frames = []\n",
    "for f in range(0, int(vc.get(cv2.CAP_PROP_FRAME_COUNT)), 1):\n",
    "    vc.set(cv2.CAP_PROP_POS_FRAMES, f)\n",
    "    rval, im = vc.read()\n",
    "    im = cv2.cvtColor(im, cv2.COLOR_BGR2GRAY)\n",
    "    frames.append(im[40:60,-50:-20])\n",
    "frames = np.array(frames)"
   ]
  },
  {
   "cell_type": "code",
   "execution_count": null,
   "metadata": {},
   "outputs": [],
   "source": [
    "fig = plt.figure()\n",
    "plt.imshow(frames.std(axis=0))"
   ]
  },
  {
   "cell_type": "code",
   "execution_count": null,
   "metadata": {},
   "outputs": [],
   "source": []
  },
  {
   "cell_type": "code",
   "execution_count": null,
   "metadata": {},
   "outputs": [],
   "source": []
  },
  {
   "cell_type": "code",
   "execution_count": null,
   "metadata": {},
   "outputs": [],
   "source": []
  },
  {
   "cell_type": "code",
   "execution_count": null,
   "metadata": {},
   "outputs": [],
   "source": []
  },
  {
   "cell_type": "code",
   "execution_count": null,
   "metadata": {},
   "outputs": [],
   "source": []
  },
  {
   "cell_type": "code",
   "execution_count": null,
   "metadata": {},
   "outputs": [],
   "source": [
    "# DPI, here, has _nothing_ to do with your screen's DPI.\n",
    "dpi = 100.0\n",
    "xpixels, ypixels = 854, 504\n",
    "\n",
    "fig = plt.figure(figsize=(ypixels/dpi, xpixels/dpi), dpi=dpi)\n",
    "ax = fig.add_axes([0, 0, 1, 1])\n",
    "ax.axis('off')\n",
    "ax.imshow(im)"
   ]
  },
  {
   "cell_type": "code",
   "execution_count": null,
   "metadata": {},
   "outputs": [],
   "source": [
    "frames.shape"
   ]
  },
  {
   "cell_type": "code",
   "execution_count": null,
   "metadata": {},
   "outputs": [],
   "source": [
    "# look for digits\n",
    "digits = [300, 400, 600, 800, 900, 1000, 1200, 1400, 1500, 1600, 1800, 2000, 2100, 2200, 2400, 2600, 2800, 3000, 3200, 3500, 3680]\n",
    "vc.set(cv2.CAP_PROP_POS_FRAMES, 100)\n",
    "rval, im = vc.read()\n",
    "im = cv2.cvtColor(im, cv2.COLOR_BGR2GRAY)\n",
    "plt.figure()\n",
    "plt.imshow(im[42:60,-45:-25], cmap='gray')"
   ]
  },
  {
   "cell_type": "code",
   "execution_count": null,
   "metadata": {},
   "outputs": [],
   "source": [
    "digitFrames = [80, 300, 400, 600, 800, 900, 1000, 1200, 1400, 1500, 1600, 1800, 2000, 2100, 2200, 2400, 2600, 2800, 3000, 3200, 3500, 3680]\n",
    "digits = {}\n",
    "for i in range(len(digitFrames)):\n",
    "    vc.set(cv2.CAP_PROP_POS_FRAMES, digitFrames[i])\n",
    "    rval, im = vc.read()\n",
    "    im = cv2.cvtColor(im, cv2.COLOR_BGR2GRAY)\n",
    "    p = i\n",
    "    digits[p] = im[42:60,-45:-25].copy()\n"
   ]
  },
  {
   "cell_type": "code",
   "execution_count": null,
   "metadata": {},
   "outputs": [],
   "source": [
    "digits.keys()"
   ]
  },
  {
   "cell_type": "code",
   "execution_count": null,
   "metadata": {},
   "outputs": [],
   "source": [
    "def err(i1, i2):\n",
    "    return np.sqrt(np.sum((i1.astype(float) - i2.astype(float))**2))\n",
    "\n",
    "errors = []\n",
    "for frame in range(0,3680):\n",
    "    vc.set(cv2.CAP_PROP_POS_FRAMES, frame)\n",
    "    rval, im = vc.read()\n",
    "    im = cv2.cvtColor(im, cv2.COLOR_BGR2GRAY)[42:60, -45:-25]\n",
    "    derr = [ err(im, digits[d]) for d in range(21) ]\n",
    "    errors.append(derr)\n",
    "errors = np.array(errors)\n",
    "plt.plot(errors)"
   ]
  },
  {
   "cell_type": "code",
   "execution_count": null,
   "metadata": {},
   "outputs": [],
   "source": [
    "%matplotlib inline\n",
    "plt.plot(errors)"
   ]
  },
  {
   "cell_type": "code",
   "execution_count": null,
   "metadata": {},
   "outputs": [],
   "source": [
    "plt.plot(np.argmin(errors, axis=1))\n",
    "print(np.unique(np.argmin(errors, axis=1)))"
   ]
  },
  {
   "cell_type": "code",
   "execution_count": null,
   "metadata": {},
   "outputs": [],
   "source": [
    "vc.set(cv2.CAP_PROP_POS_FRAMES, 80)\n",
    "rval, im = vc.read()\n",
    "im = cv2.cvtColor(im, cv2.COLOR_BGR2GRAY)\n",
    "plt.imshow(im)"
   ]
  },
  {
   "cell_type": "code",
   "execution_count": null,
   "metadata": {},
   "outputs": [],
   "source": [
    "errors[:20]"
   ]
  }
 ],
 "metadata": {
  "language_info": {
   "name": "python",
   "pygments_lexer": "ipython3"
  }
 },
 "nbformat": 4,
 "nbformat_minor": 2
}
