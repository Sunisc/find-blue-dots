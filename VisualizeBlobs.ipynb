{
 "cells": [
  {
   "cell_type": "code",
   "execution_count": null,
   "metadata": {},
   "outputs": [],
   "source": [
    "%matplotlib inline\n",
    "%config InlineBackend.figure_format = 'svg'\n",
    "# %config InlineBackend.print_figure_kwargs={'bbox_inches':None}\n",
    "import cv2\n",
    "import numpy as np\n",
    "import os.path as osp\n",
    "import matplotlib.pyplot as plt\n",
    "import matplotlib.image as mpimg\n",
    "import matplotlib as mpl\n",
    "\n",
    "mpl.rcParams['figure.dpi']= 300\n",
    "\n",
    "def show(im, **kwargs):\n",
    "    '''Show images actual size unless it is tiny\n",
    "    \n",
    "    I'm assuming they are in LAB float32 if the rank is 3\n",
    "    \n",
    "    '''\n",
    "    height, width = im.shape[:2]\n",
    "    if height > 50 and width > 50:\n",
    "        dpi = 100\n",
    "        margin= 50\n",
    "        figsize=((width+2*margin)/dpi, (height+2*margin)/dpi) # inches\n",
    "        left = margin/dpi/figsize[0] #axes ratio\n",
    "        bottom = margin/dpi/figsize[1]\n",
    "\n",
    "        fig = plt.figure(figsize=figsize, dpi=dpi)\n",
    "        fig.subplots_adjust(left=left, bottom=bottom, right=1.-left, top=1.-bottom)\n",
    "    else:\n",
    "        plt.figure()\n",
    "    \n",
    "    args = dict(kwargs)\n",
    "    if 'title' in args:\n",
    "        del args['title']\n",
    "    \n",
    "    if len(im.shape) == 3:\n",
    "        im = cv2.cvtColor(im, cv2.COLOR_LAB2RGB)\n",
    "    elif len(im.shape) == 2:\n",
    "        args['cmap'] = 'gray'                  \n",
    "\n",
    "    plt.imshow(im, **args)\n",
    "    if 'title' in kwargs:\n",
    "        plt.title(kwargs['title'])\n",
    "        \n",
    "def isBlue(im):\n",
    "    mblue = np.array([ 60.4 , -12.2, -35.7 ], dtype=np.float32)\n",
    "    sblue = np.array([ 4.1, 3.2, 8.5], dtype=np.float32)\n",
    "    d2 = np.sum((im - mblue)**2 / sblue**2, axis=2)\n",
    "    return np.exp(-d2 / 20)\n",
    "\n",
    "def circularity(contour):\n",
    "    perimeter = cv2.arcLength(contour, True)\n",
    "    if perimeter == 0:\n",
    "        return False\n",
    "    contour = cv2.convexHull(contour)\n",
    "    area = cv2.contourArea(contour)\n",
    "    result = 4 * np.pi * (area / perimeter ** 2)\n",
    "    return result\n",
    "\n",
    "def isCircular(contour, hull=False):\n",
    "    perimeter = cv2.arcLength(contour, True)\n",
    "    if perimeter == 0:\n",
    "        return False\n",
    "    if hull:\n",
    "        contour = cv2.convexHull(contour)\n",
    "    area = cv2.contourArea(contour)\n",
    "    circularity = 4 * np.pi * (area / perimeter ** 2)\n",
    "    return 0.7 <= circularity <= 1.2\n",
    "    # return 0.5 <= circularity <= 1.4"
   ]
  },
  {
   "cell_type": "code",
   "execution_count": null,
   "metadata": {},
   "outputs": [],
   "source": [
    "import pickle\n",
    "blobs = pickle.load(open('MSB_Video_1.blobs', 'rb'))\n",
    "print(len(blobs))"
   ]
  },
  {
   "cell_type": "code",
   "execution_count": null,
   "metadata": {},
   "outputs": [],
   "source": [
    "circular = [ (fno, blob, pixels) for fno, blob, pixels in blobs if isCircular(blob) ]"
   ]
  },
  {
   "cell_type": "code",
   "execution_count": null,
   "metadata": {},
   "outputs": [],
   "source": [
    "noncircular = [ (fno, blob, pixels) for fno, blob, pixels in blobs if not isCircular(blob) ]\n",
    "print(len(circular), len(noncircular))"
   ]
  },
  {
   "cell_type": "code",
   "execution_count": null,
   "metadata": {},
   "outputs": [],
   "source": [
    "def plotBlobs(blobs):\n",
    "    ncols = 25\n",
    "    nrows = (len(blobs) + ncols - 1) // ncols\n",
    "    plt.figure(figsize=(ncols/2,nrows/2), dpi=100)\n",
    "    for i, (fno, blob, pixels) in enumerate(blobs):\n",
    "        plt.subplot(nrows, ncols, i+1)\n",
    "        im = cv2.cvtColor(pixels, cv2.COLOR_LAB2RGB)\n",
    "        plt.imshow(im)\n",
    "        plt.axis('off')"
   ]
  },
  {
   "cell_type": "code",
   "execution_count": null,
   "metadata": {},
   "outputs": [],
   "source": [
    "plotBlobs(circular)"
   ]
  },
  {
   "cell_type": "code",
   "execution_count": null,
   "metadata": {},
   "outputs": [],
   "source": [
    "plotBlobs(noncircular)"
   ]
  },
  {
   "cell_type": "code",
   "execution_count": null,
   "metadata": {},
   "outputs": [],
   "source": [
    "csorted = sorted(circular, key=lambda t: t[2].shape[1])\n",
    "#del csorted[13]\n",
    "#del csorted[12]\n",
    "#del csorted[0]\n",
    "#plotBlobs(csorted)"
   ]
  },
  {
   "cell_type": "markdown",
   "metadata": {},
   "source": [
    "## Write the images for training"
   ]
  },
  {
   "cell_type": "code",
   "execution_count": null,
   "metadata": {},
   "outputs": [],
   "source": [
    "fp = open('positive.dat', 'wt')\n",
    "for i, (fno, blob, pixels) in enumerate(csorted):\n",
    "    bim = (255 * isBlue(pixels)).astype(np.uint8)\n",
    "    fname = 'positive/dot{:03d}.png'.format(i)\n",
    "    cv2.imwrite(fname, bim)\n",
    "    print(fname, 1, 2, 2, bim.shape[1]-4, bim.shape[0]-4, file=fp)\n",
    "fp.close()"
   ]
  },
  {
   "cell_type": "markdown",
   "metadata": {},
   "source": [
    "## Extract some bad images\n",
    "\n",
    "Maybe from the same frames? Perhaps they should include some blue? And just make sure they don't overlap any of these?"
   ]
  },
  {
   "cell_type": "code",
   "execution_count": null,
   "metadata": {},
   "outputs": [],
   "source": [
    "vid = '/home/gb/Dropbox/Karen and Gary Shared Files/Videos & Transcripts/MSB/MSB_Video 1 (09-30-17).mp4'\n",
    "vc = cv2.VideoCapture(vid)\n",
    "vc.get(cv2.CAP_PROP_FRAME_COUNT), vc.get(cv2.CAP_PROP_FPS), vc.get(cv2.CAP_PROP_FRAME_WIDTH), vc.get(cv2.CAP_PROP_FRAME_HEIGHT)\n",
    "def grabFrame(fn):\n",
    "    vc.set(cv2.CAP_PROP_POS_FRAMES, fn)\n",
    "    rval, im = vc.read()\n",
    "    im = cv2.cvtColor(im.astype(np.float32)/255.0, cv2.COLOR_BGR2LAB)\n",
    "    return im\n",
    "show(grabFrame(100))"
   ]
  },
  {
   "cell_type": "code",
   "execution_count": null,
   "metadata": {},
   "outputs": [],
   "source": [
    "import random\n",
    "negative = []\n",
    "unused_frames = sorted(set(range(100,3680)) - set(fno for fno, blob, pixels in blobs))\n",
    "for fno, blob, pixels in csorted:\n",
    "    f = random.choice(unused_frames)\n",
    "    frame = grabFrame(f)\n",
    "    x, y, w, h = cv2.boundingRect(blob)\n",
    "    x = random.randrange(200,600)\n",
    "    y = random.randrange(100,400)\n",
    "    npixels = frame[y-2:y+h+2,x-2:x+w+2,:]\n",
    "    negative.append((f, blob, npixels))"
   ]
  },
  {
   "cell_type": "code",
   "execution_count": null,
   "metadata": {},
   "outputs": [],
   "source": [
    "plotBlobs(negative)"
   ]
  },
  {
   "cell_type": "code",
   "execution_count": null,
   "metadata": {},
   "outputs": [],
   "source": [
    "fp = open('negative.dat', 'wt')\n",
    "for i, (fno, blob, pixels) in enumerate(negative):\n",
    "    bim = (255 * isBlue(pixels)).astype(np.uint8)\n",
    "    fname = 'negative/dot{:03d}.png'.format(i)\n",
    "    cv2.imwrite(fname, bim)\n",
    "    print(fname, file=fp)\n",
    "fp.close()"
   ]
  },
  {
   "cell_type": "code",
   "execution_count": null,
   "metadata": {},
   "outputs": [],
   "source": []
  },
  {
   "cell_type": "code",
   "execution_count": null,
   "metadata": {},
   "outputs": [],
   "source": []
  },
  {
   "cell_type": "code",
   "execution_count": null,
   "metadata": {},
   "outputs": [],
   "source": []
  },
  {
   "cell_type": "code",
   "execution_count": null,
   "metadata": {},
   "outputs": [],
   "source": [
    "sbad = sorted(noncircular, key=lambda t: max(t[2].shape[0], t[2].shape[1]))\n",
    "plotBlobs(sbad)\n",
    "'''    0     1     2    3    4    5    6     7    8     9   10    11   12   13    14   15   16    17   18   19    20   21   22    23   24'''"
   ]
  },
  {
   "cell_type": "code",
   "execution_count": null,
   "metadata": {},
   "outputs": [],
   "source": [
    "del"
   ]
  },
  {
   "cell_type": "code",
   "execution_count": null,
   "metadata": {},
   "outputs": [],
   "source": [
    "nc2 = [ (fno, blob, pixels) for fno, blob, pixels in compressed if not isCircular(blob, True) ]\n",
    "plotBlobs(nc2)"
   ]
  },
  {
   "cell_type": "code",
   "execution_count": null,
   "metadata": {},
   "outputs": [],
   "source": []
  },
  {
   "cell_type": "code",
   "execution_count": null,
   "metadata": {},
   "outputs": [],
   "source": []
  },
  {
   "cell_type": "code",
   "execution_count": null,
   "metadata": {},
   "outputs": [],
   "source": []
  },
  {
   "cell_type": "code",
   "execution_count": null,
   "metadata": {},
   "outputs": [],
   "source": []
  },
  {
   "cell_type": "code",
   "execution_count": null,
   "metadata": {},
   "outputs": [],
   "source": []
  },
  {
   "cell_type": "code",
   "execution_count": null,
   "metadata": {},
   "outputs": [],
   "source": []
  },
  {
   "cell_type": "code",
   "execution_count": null,
   "metadata": {},
   "outputs": [],
   "source": []
  },
  {
   "cell_type": "code",
   "execution_count": null,
   "metadata": {},
   "outputs": [],
   "source": []
  },
  {
   "cell_type": "code",
   "execution_count": null,
   "metadata": {},
   "outputs": [],
   "source": []
  },
  {
   "cell_type": "code",
   "execution_count": null,
   "metadata": {},
   "outputs": [],
   "source": []
  },
  {
   "cell_type": "code",
   "execution_count": null,
   "metadata": {},
   "outputs": [],
   "source": []
  },
  {
   "cell_type": "code",
   "execution_count": null,
   "metadata": {},
   "outputs": [],
   "source": []
  },
  {
   "cell_type": "code",
   "execution_count": null,
   "metadata": {},
   "outputs": [],
   "source": []
  },
  {
   "cell_type": "code",
   "execution_count": null,
   "metadata": {},
   "outputs": [],
   "source": []
  },
  {
   "cell_type": "code",
   "execution_count": null,
   "metadata": {},
   "outputs": [],
   "source": []
  },
  {
   "cell_type": "code",
   "execution_count": null,
   "metadata": {},
   "outputs": [],
   "source": []
  },
  {
   "cell_type": "code",
   "execution_count": null,
   "metadata": {},
   "outputs": [],
   "source": []
  },
  {
   "cell_type": "code",
   "execution_count": null,
   "metadata": {},
   "outputs": [],
   "source": []
  },
  {
   "cell_type": "code",
   "execution_count": null,
   "metadata": {},
   "outputs": [],
   "source": []
  },
  {
   "cell_type": "code",
   "execution_count": null,
   "metadata": {},
   "outputs": [],
   "source": []
  },
  {
   "cell_type": "code",
   "execution_count": null,
   "metadata": {},
   "outputs": [],
   "source": []
  },
  {
   "cell_type": "code",
   "execution_count": null,
   "metadata": {},
   "outputs": [],
   "source": []
  },
  {
   "cell_type": "code",
   "execution_count": null,
   "metadata": {},
   "outputs": [],
   "source": []
  },
  {
   "cell_type": "markdown",
   "metadata": {},
   "source": [
    "## Optimize color?"
   ]
  },
  {
   "cell_type": "code",
   "execution_count": null,
   "metadata": {},
   "outputs": [],
   "source": []
  },
  {
   "cell_type": "code",
   "execution_count": null,
   "metadata": {},
   "outputs": [],
   "source": [
    "allPixels = []\n",
    "for fno, blob, pixels in circular:\n",
    "    rgb = cv2.cvtColor(pixels, cv2.COLOR_LAB2RGB)\n",
    "    w, h, _ = np.array(rgb.shape)\n",
    "    radius = min(w, h) / 2\n",
    "    ys, xs = np.meshgrid(np.arange(h)-(h-1)/2, np.arange(w)-(w-1)/2)\n",
    "    inside = (ys**2 + xs**2) < radius**2\n",
    "    ys, xs = np.where(inside)\n",
    "    allPixels.append(rgb[ys, xs, :])\n",
    "allPixels = np.concatenate(allPixels)\n",
    "allPixels.shape\n"
   ]
  },
  {
   "cell_type": "code",
   "execution_count": null,
   "metadata": {},
   "outputs": [],
   "source": [
    "avg = allPixels.mean(axis=0)\n",
    "delta = allPixels - avg\n",
    "uu, dd, vv = np.linalg.svd(delta, full_matrices = False)\n",
    "d = vv[0]\n",
    "vv[0]"
   ]
  },
  {
   "cell_type": "code",
   "execution_count": null,
   "metadata": {},
   "outputs": [],
   "source": [
    "avg"
   ]
  },
  {
   "cell_type": "code",
   "execution_count": null,
   "metadata": {},
   "outputs": [],
   "source": [
    "for fno, blob, pixels in circular[:1]:\n",
    "    h, w, _ = pixels.shape\n",
    "    rgb = cv2.cvtColor(pixels, cv2.COLOR_LAB2RGB)\n",
    "    rgb.shape = (h*w, 3)\n",
    "    delta = rgb - avg\n",
    "    u = delta.dot(d)\n",
    "    nrgb = avg + u[np.newaxis].T * d[np.newaxis]\n",
    "    nrgb.shape = (h, w, 3)\n",
    "    plt.imshow(nrgb)"
   ]
  },
  {
   "cell_type": "code",
   "execution_count": null,
   "metadata": {},
   "outputs": [],
   "source": [
    "delta = allPixels - avg\n",
    "uvals = delta.dot(d)\n",
    "print(np.min(uvals), np.max(uvals))\n",
    "errors = delta - uvals[None].T * d\n",
    "errors = np.sqrt(np.sum(errors**2, axis=1))\n",
    "ndx = np.argsort(errors)\n",
    "plt.hist(uvals)\n",
    "#plt.hist(errors)"
   ]
  },
  {
   "cell_type": "code",
   "execution_count": null,
   "metadata": {},
   "outputs": [],
   "source": [
    "np.std(errors)"
   ]
  },
  {
   "cell_type": "code",
   "execution_count": null,
   "metadata": {},
   "outputs": [],
   "source": [
    "from ipywidgets import interact, interactive, fixed, interact_manual\n",
    "import ipywidgets as widgets"
   ]
  },
  {
   "cell_type": "code",
   "execution_count": null,
   "metadata": {},
   "outputs": [],
   "source": [
    "def f(x):\n",
    "    return x"
   ]
  },
  {
   "cell_type": "code",
   "execution_count": null,
   "metadata": {},
   "outputs": [],
   "source": [
    "interact(f, x=10)"
   ]
  },
  {
   "cell_type": "code",
   "execution_count": null,
   "metadata": {},
   "outputs": [],
   "source": [
    "p = noncircular[7][2]\n"
   ]
  },
  {
   "cell_type": "code",
   "execution_count": null,
   "metadata": {},
   "outputs": [],
   "source": [
    "import PIL.Image\n",
    "from io import BytesIO\n",
    "import IPython.display\n",
    "\n",
    "def toImage(a):\n",
    "    a = cv2.cvtColor(a, cv2.COLOR_LAB2RGB)\n",
    "    a = np.uint8(255 * a)\n",
    "    h, w = a.shape[:2]\n",
    "    s = 100 / max(w, h)\n",
    "    w *= s\n",
    "    h *= s\n",
    "    img = PIL.Image.fromarray(a,mode='RGB')\n",
    "    f = BytesIO()\n",
    "    img.save(f,'png')\n",
    "    return widgets.Image(\n",
    "        value=f.getvalue(),\n",
    "        format='png',\n",
    "        width=w,\n",
    "        height=h,\n",
    "        layout=widgets.Layout(margin='auto')\n",
    "    )\n",
    "\n",
    "toImage(p)"
   ]
  },
  {
   "cell_type": "code",
   "execution_count": null,
   "metadata": {},
   "outputs": [],
   "source": [
    "cb = widgets.Checkbox(value=False)\n",
    "widgets.VBox([toImage(p), cb])"
   ]
  },
  {
   "cell_type": "code",
   "execution_count": null,
   "metadata": {},
   "outputs": [],
   "source": [
    "checks = []\n",
    "rows = []\n",
    "row = []\n",
    "for fno, blob, pixels in noncircular:\n",
    "    cb = widgets.Checkbox(value=False, description=str(fno), layout=widgets.Layout(width='110px'))\n",
    "    checks.append(cb)\n",
    "    im = toImage(pixels)\n",
    "    vb = widgets.VBox([im, cb])\n",
    "    row.append(vb)\n",
    "    if len(row) == 10:\n",
    "        rows.append(widgets.HBox(row))\n",
    "        row = []\n",
    "if len(row) > 0:\n",
    "    rows.append(widgets.HBox(row))\n",
    "widgets.VBox(rows)"
   ]
  },
  {
   "cell_type": "code",
   "execution_count": null,
   "metadata": {},
   "outputs": [],
   "source": [
    "[ check.value for check in checks[:10]]"
   ]
  },
  {
   "cell_type": "code",
   "execution_count": null,
   "metadata": {},
   "outputs": [],
   "source": [
    "falseNegative = [ nc for i, nc in enumerate(noncircular) if checks[i].value ]"
   ]
  },
  {
   "cell_type": "code",
   "execution_count": null,
   "metadata": {},
   "outputs": [],
   "source": [
    "len(falseNegative)"
   ]
  },
  {
   "cell_type": "code",
   "execution_count": null,
   "metadata": {},
   "outputs": [],
   "source": [
    "good = csorted.copy()\n",
    "good.extend(falseNegative)\n",
    "len(good)"
   ]
  },
  {
   "cell_type": "code",
   "execution_count": null,
   "metadata": {},
   "outputs": [],
   "source": [
    "import pickle\n",
    "pickle.dump(good, open('MSB_Video_1_positive.blobs', 'wb'))"
   ]
  },
  {
   "cell_type": "code",
   "execution_count": null,
   "metadata": {},
   "outputs": [],
   "source": [
    "# get the area of the good ones\n",
    "areas = sorted([ cv2.contourArea(blob) for fno, blob, pixels in good ])"
   ]
  },
  {
   "cell_type": "code",
   "execution_count": null,
   "metadata": {},
   "outputs": [],
   "source": [
    "areas[0], areas[-1]"
   ]
  },
  {
   "cell_type": "code",
   "execution_count": null,
   "metadata": {},
   "outputs": [],
   "source": [
    "trueNegative = [ nc for i, nc in enumerate(noncircular) if not checks[i].value ]\n",
    "csorted = sorted(circular, key=lambda t: t[2].shape[1])\n",
    "falsePositive = csorted[12:14]\n",
    "bad = trueNegative.copy()\n",
    "bad.extend(falsePositive)\n",
    "\n",
    "# filter by area so we don't have those huges ones\n",
    "fbad = [ b for b in bad if cv2.contourArea(b[1]) < 1500 ]\n",
    "len(bad), len(fbad)"
   ]
  },
  {
   "cell_type": "code",
   "execution_count": null,
   "metadata": {},
   "outputs": [],
   "source": [
    "pickle.dump(fbad, open('MSB_Video_1_negative.blobs', 'wb'))"
   ]
  },
  {
   "cell_type": "code",
   "execution_count": null,
   "metadata": {},
   "outputs": [],
   "source": [
    "2"
   ]
  },
  {
   "cell_type": "code",
   "execution_count": null,
   "metadata": {},
   "outputs": [],
   "source": [
    "%load_ext autoreload\n",
    "%autoreload 1\n",
    "%aimport ImageChooser\n",
    "from ImageChooser import ImageChooser\n",
    "chooser = ImageChooser()\n",
    "chooser.show([pixels for fno, blob, pixels in fbad[:10]])\n"
   ]
  },
  {
   "cell_type": "code",
   "execution_count": null,
   "metadata": {},
   "outputs": [],
   "source": [
    "c,r = chooser.extract()\n",
    "len(c), len(r)"
   ]
  },
  {
   "cell_type": "code",
   "execution_count": null,
   "metadata": {},
   "outputs": [],
   "source": []
  }
 ],
 "metadata": {
  "language_info": {
   "name": "python",
   "pygments_lexer": "ipython3"
  }
 },
 "nbformat": 4,
 "nbformat_minor": 2
}
