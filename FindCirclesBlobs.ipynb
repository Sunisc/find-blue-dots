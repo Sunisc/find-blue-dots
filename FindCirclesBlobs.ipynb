{
 "cells": [
  {
   "cell_type": "markdown",
   "metadata": {},
   "source": [
    "# Experiment with finding circles in the Rett Girls videos\n",
    "\n",
    "July 2018\n",
    "\n",
    "This attempts using boundaries to find blobs for later processing"
   ]
  },
  {
   "cell_type": "code",
   "execution_count": null,
   "metadata": {},
   "outputs": [],
   "source": [
    "%matplotlib inline\n",
    "%config InlineBackend.figure_format = 'svg'\n",
    "# %config InlineBackend.print_figure_kwargs={'bbox_inches':None}\n",
    "import cv2\n",
    "import numpy as np\n",
    "import os.path as osp\n",
    "import matplotlib.pyplot as plt\n",
    "import matplotlib.image as mpimg\n",
    "import matplotlib as mpl\n",
    "\n",
    "mpl.rcParams['figure.dpi']= 300"
   ]
  },
  {
   "cell_type": "code",
   "execution_count": null,
   "metadata": {},
   "outputs": [],
   "source": [
    "vid = '/home/gb/Dropbox/Karen and Gary Shared Files/Videos & Transcripts/MSB/MSB_Video 1 (09-30-17).mp4'\n",
    "vc = cv2.VideoCapture(vid)\n",
    "vc.get(cv2.CAP_PROP_FRAME_COUNT), vc.get(cv2.CAP_PROP_FPS), vc.get(cv2.CAP_PROP_FRAME_WIDTH), vc.get(cv2.CAP_PROP_FRAME_HEIGHT)"
   ]
  },
  {
   "cell_type": "code",
   "execution_count": null,
   "metadata": {},
   "outputs": [],
   "source": [
    "def show(im, **kwargs):\n",
    "    '''Show images actual size unless it is tiny\n",
    "    \n",
    "    I'm assuming they are in LAB float32 if the rank is 3\n",
    "    \n",
    "    '''\n",
    "    height, width = im.shape[:2]\n",
    "    if height > 50 and width > 50:\n",
    "        dpi = 100\n",
    "        margin= 50\n",
    "        figsize=((width+2*margin)/dpi, (height+2*margin)/dpi) # inches\n",
    "        left = margin/dpi/figsize[0] #axes ratio\n",
    "        bottom = margin/dpi/figsize[1]\n",
    "\n",
    "        fig = plt.figure(figsize=figsize, dpi=dpi)\n",
    "        fig.subplots_adjust(left=left, bottom=bottom, right=1.-left, top=1.-bottom)\n",
    "    else:\n",
    "        plt.figure()\n",
    "    \n",
    "    args = dict(kwargs)\n",
    "    if 'title' in args:\n",
    "        del args['title']\n",
    "    \n",
    "    if len(im.shape) == 3:\n",
    "        im = cv2.cvtColor(im, cv2.COLOR_LAB2RGB)\n",
    "    elif len(im.shape) == 2:\n",
    "        args['cmap'] = 'gray'                  \n",
    "\n",
    "    plt.imshow(im, **args)\n",
    "    if 'title' in kwargs:\n",
    "        plt.title(kwargs['title'])"
   ]
  },
  {
   "cell_type": "code",
   "execution_count": null,
   "metadata": {},
   "outputs": [],
   "source": [
    "def grabFrame(fn, lab=True):\n",
    "    vc.set(cv2.CAP_PROP_POS_FRAMES, fn)\n",
    "    rval, im = vc.read()\n",
    "    if lab:\n",
    "        im = cv2.cvtColor(im.astype(np.float32)/255.0, cv2.COLOR_BGR2LAB)\n",
    "    else:\n",
    "        im = cv2.cvtColor(im, cv2.COLOR_BGR2RGB)\n",
    "    return im\n",
    "show(grabFrame(2200))\n",
    "def toRGB(im):\n",
    "    return (255 * cv2.cvtColor(im, cv2.COLOR_LAB2RGB)).astype(np.uint8)\n"
   ]
  },
  {
   "cell_type": "code",
   "execution_count": null,
   "metadata": {},
   "outputs": [],
   "source": [
    "def isBlue(im):\n",
    "    mblue = np.array([ 60.4 , -12.2, -35.7 ], dtype=np.float32)\n",
    "    sblue = np.array([ 4.1, 3.2, 8.5], dtype=np.float32)\n",
    "    d2 = np.sum((im - mblue)**2 / sblue**2, axis=2)\n",
    "    return np.exp(-d2 / 20)\n",
    "\n",
    "im = grabFrame(1700)\n",
    "pblue = isBlue(im)\n",
    "show(pblue)\n",
    "dblue = cv2.dilate(pblue, np.ones((3,3)), iterations=3)\n",
    "show(dblue)\n",
    "_, tblue = cv2.threshold(dblue, 0.8, 255, cv2.THRESH_BINARY)\n",
    "show(tblue)"
   ]
  },
  {
   "cell_type": "code",
   "execution_count": null,
   "metadata": {},
   "outputs": [],
   "source": [
    "def isCircular(contour):\n",
    "    perimeter = cv2.arcLength(contour, True)\n",
    "    if perimeter == 0:\n",
    "        return False\n",
    "    area = cv2.contourArea(contour)\n",
    "    circularity = 4 * np.pi * (area / perimeter ** 2)\n",
    "    #return 0.7 <= circularity <= 1.2\n",
    "    return 0.5 <= circularity <= 1.4\n",
    "\n",
    "def findBlobs(image, verbose=True):\n",
    "    # find the special blue\n",
    "    blue = isBlue(image)\n",
    "    _, blue = cv2.threshold(blue, 0.6, 255, cv2.THRESH_BINARY)\n",
    "    blue = blue.astype(np.uint8)\n",
    "    # dilate a bit to fill in noise\n",
    "    blue = cv2.dilate(blue, np.ones((3,3), dtype=np.uint8), iterations=1)\n",
    "    blue = cv2.erode(blue, np.ones((3,3), dtype=np.uint8), iterations=1)\n",
    "    \n",
    "    if verbose:\n",
    "        show(blue)\n",
    "    # get the contours of the blue regions\n",
    "    im2, contours, hierarchy = cv2.findContours(blue, cv2.RETR_EXTERNAL, cv2.CHAIN_APPROX_SIMPLE)\n",
    "    if verbose:\n",
    "        oim = image.copy()\n",
    "        cv2.drawContours(oim, contours, -1, (0,0,0), 1)\n",
    "        show(oim)\n",
    "    # filter by area\n",
    "    if True:\n",
    "        minArea = np.pi * 4**2\n",
    "        contours = [contour for contour in contours if minArea < cv2.contourArea(contour)]\n",
    "        if verbose:\n",
    "            oim = image.copy()\n",
    "            cv2.drawContours(oim, contours, -1, (0,0,0), 1)\n",
    "            show(oim)\n",
    "    if False:\n",
    "        # filter by circularity\n",
    "        contours = [contour for contour in contours if isCircular(contour)]\n",
    "        if verbose:\n",
    "            oim = image.copy()\n",
    "            cv2.drawContours(oim, contours, -1, (0,0,0), 1)\n",
    "            show(oim)\n",
    "\n",
    "    return contours\n",
    "t = findBlobs(grabFrame(2200))"
   ]
  },
  {
   "cell_type": "code",
   "execution_count": null,
   "metadata": {},
   "outputs": [],
   "source": [
    "t[0]"
   ]
  },
  {
   "cell_type": "markdown",
   "metadata": {},
   "source": [
    "## Find all the blobs and save them away"
   ]
  },
  {
   "cell_type": "code",
   "execution_count": null,
   "metadata": {},
   "outputs": [],
   "source": [
    "im = grabFrame(1700)\n",
    "plt.imshow((255 * cv2.cvtColor(im, cv2.COLOR_LAB2RGB)).astype(np.uint8))"
   ]
  },
  {
   "cell_type": "code",
   "execution_count": null,
   "metadata": {},
   "outputs": [],
   "source": [
    "results = []\n",
    "nframes = int(vc.get(cv2.CAP_PROP_FRAME_COUNT))\n",
    "for fno in range(100, 3680):\n",
    "    if fno % 100 == 0:\n",
    "        print(fno, len(results))\n",
    "    frame = grabFrame(fno)\n",
    "    for blob in findBlobs(frame, False):\n",
    "        x, y, w, h = cv2.boundingRect(blob)\n",
    "        pixels = frame[y:y+h, x:x+w].copy()\n",
    "        results.append((fno, blob, pixels))\n",
    "\n",
    "    "
   ]
  },
  {
   "cell_type": "markdown",
   "metadata": {},
   "source": [
    "## Eliminate duplicates"
   ]
  },
  {
   "cell_type": "code",
   "execution_count": null,
   "metadata": {},
   "outputs": [],
   "source": [
    "def rms(v):\n",
    "    return np.sqrt(np.mean(v**2))\n",
    "\n",
    "compressed = []\n",
    "for f1, c1, p1 in results:\n",
    "    for f2, c2, p2 in compressed:\n",
    "        if c1.shape == c2.shape and rms(c1 - c2) < 1 and p1.shape == p2.shape and rms(p1 - p2) < 10:\n",
    "            break\n",
    "    else:\n",
    "        compressed.append((f1, c1, p1))"
   ]
  },
  {
   "cell_type": "code",
   "execution_count": null,
   "metadata": {},
   "outputs": [],
   "source": [
    "print(len(results), len(compressed))"
   ]
  },
  {
   "cell_type": "code",
   "execution_count": null,
   "metadata": {},
   "outputs": [],
   "source": [
    "import pickle\n",
    "pickle.dump(compressed, open('MSB_Video_1.blobs', 'wb'))"
   ]
  }
 ],
 "metadata": {
  "language_info": {
   "name": "python",
   "pygments_lexer": "ipython3"
  }
 },
 "nbformat": 4,
 "nbformat_minor": 2
}
