{
 "cells": [
  {
   "cell_type": "markdown",
   "metadata": {},
   "source": [
    "# Experiment with finding circles in the Rett Girls videos\n",
    "\n",
    "July 2018\n",
    "\n",
    "This attempts using images over time."
   ]
  },
  {
   "cell_type": "code",
   "execution_count": null,
   "metadata": {},
   "outputs": [],
   "source": [
    "%matplotlib inline\n",
    "%config InlineBackend.figure_format = 'svg'\n",
    "# %config InlineBackend.print_figure_kwargs={'bbox_inches':None}\n",
    "import cv2\n",
    "import numpy as np\n",
    "import os.path as osp\n",
    "import matplotlib.pyplot as plt\n",
    "import matplotlib.image as mpimg\n",
    "import matplotlib as mpl\n",
    "\n",
    "mpl.rcParams['figure.dpi']= 300"
   ]
  },
  {
   "cell_type": "code",
   "execution_count": null,
   "metadata": {},
   "outputs": [],
   "source": [
    "vid = '/home/gb/Dropbox/Karen and Gary Shared Files/Videos & Transcripts/MSB/MSB_Video 1 (09-30-17).mp4'\n",
    "\n",
    "osp.exists(vid)"
   ]
  },
  {
   "cell_type": "code",
   "execution_count": null,
   "metadata": {},
   "outputs": [],
   "source": [
    "vc = cv2.VideoCapture(vid)\n",
    "vc.get(cv2.CAP_PROP_FRAME_COUNT), vc.get(cv2.CAP_PROP_FPS), vc.get(cv2.CAP_PROP_FRAME_WIDTH), vc.get(cv2.CAP_PROP_FRAME_HEIGHT)"
   ]
  },
  {
   "cell_type": "code",
   "execution_count": null,
   "metadata": {},
   "outputs": [],
   "source": [
    "def show(im, **kwargs):\n",
    "    height, width = im.shape[:2]\n",
    "    dpi = 100\n",
    "    margin= 50\n",
    "    figsize=((width+2*margin)/dpi, (height+2*margin)/dpi) # inches\n",
    "    left = margin/dpi/figsize[0] #axes ratio\n",
    "    bottom = margin/dpi/figsize[1]\n",
    "\n",
    "    fig = plt.figure(figsize=figsize, dpi=dpi)\n",
    "    fig.subplots_adjust(left=left, bottom=bottom, right=1.-left, top=1.-bottom)\n",
    "    \n",
    "    args = dict(kwargs)\n",
    "    \n",
    "    if len(im.shape) == 3:\n",
    "        im = cv2.cvtColor(im.astype(np.uint8), cv2.COLOR_LAB2RGB)\n",
    "    elif len(im.shape) == 2:\n",
    "        print('here')\n",
    "        args['cmap'] = 'gray'                  \n",
    "\n",
    "    plt.imshow(im, **args)"
   ]
  },
  {
   "cell_type": "code",
   "execution_count": null,
   "metadata": {},
   "outputs": [],
   "source": [
    "def grabFrame(fn):\n",
    "    vc.set(cv2.CAP_PROP_POS_FRAMES, fn)\n",
    "    rval, im = vc.read()\n",
    "    im = cv2.cvtColor(im, cv2.COLOR_BGR2LAB)\n",
    "    return im\n",
    "show(grabFrame(785), interpolation=None)"
   ]
  },
  {
   "cell_type": "code",
   "execution_count": null,
   "metadata": {},
   "outputs": [],
   "source": [
    "b1 = cv2.cvtColor(np.array([[[154,116,92]]], dtype=np.uint8), cv2.COLOR_LAB2RGB)\n",
    "b2 = cv2.cvtColor(b1.astype(np.float32)/255, cv2.COLOR_RGB2LAB)\n",
    "b2"
   ]
  },
  {
   "cell_type": "code",
   "execution_count": null,
   "metadata": {},
   "outputs": [],
   "source": [
    "154*100/255, 116-128, 92-128, 10.4*100/255"
   ]
  },
  {
   "cell_type": "code",
   "execution_count": null,
   "metadata": {},
   "outputs": [],
   "source": [
    "def isBlue(lim):\n",
    "    mblue = np.array([154, 116, 92], dtype=np.float32)\n",
    "    sblue = np.array([10.4, 3.2, 8.5], dtype=np.float32)\n",
    "    blue = np.ones(lim.shape[:2], dtype=np.uint8)\n",
    "\n",
    "    for i in range(3):\n",
    "        blue &= np.abs(lim[:,:,i] - mblue[i]) < 2*sblue[i]\n",
    "\n",
    "    return blue\n",
    "\n",
    "show(isBlue(grabFrame(790)), cmap='gray')\n"
   ]
  },
  {
   "cell_type": "markdown",
   "metadata": {},
   "source": [
    "Frames for page 4 begin at 683 and go to 844\n",
    "\n",
    "Grab that stack."
   ]
  },
  {
   "cell_type": "code",
   "execution_count": null,
   "metadata": {},
   "outputs": [],
   "source": [
    "frames = np.array([grabFrame(f) for f in range(683,845)], dtype=np.float32)\n"
   ]
  },
  {
   "cell_type": "code",
   "execution_count": null,
   "metadata": {},
   "outputs": [],
   "source": [
    "frames[0].shape"
   ]
  },
  {
   "cell_type": "markdown",
   "metadata": {},
   "source": [
    "### Compute a standard deviation image\n"
   ]
  },
  {
   "cell_type": "code",
   "execution_count": null,
   "metadata": {},
   "outputs": [],
   "source": [
    "s = np.std(frames[:,:,:,0], axis=0)\n",
    "show(s)\n",
    "plt.grid('on')"
   ]
  },
  {
   "cell_type": "markdown",
   "metadata": {},
   "source": [
    "**Colors passing through a dot**"
   ]
  },
  {
   "cell_type": "code",
   "execution_count": null,
   "metadata": {},
   "outputs": [],
   "source": [
    "plt.plot(frames[:,330,210,:])"
   ]
  },
  {
   "cell_type": "code",
   "execution_count": null,
   "metadata": {},
   "outputs": [],
   "source": [
    "plt.imshow(frames[80,326:340,206:220,0], cmap='gray')\n",
    "plt.figure()\n",
    "plt.imshow(np.mean(frames[80:121,326:340,206:220,0], axis=0), cmap='gray')\n",
    "plt.figure()\n",
    "plt.imshow(np.std(frames[80:121,326:340,206:220,0], axis=0), cmap='gray')"
   ]
  },
  {
   "cell_type": "code",
   "execution_count": null,
   "metadata": {},
   "outputs": [],
   "source": [
    "def MaxAbsChange(frames):\n",
    "    return np.max(np.abs(np.diff(frames, axis=0)), axis=0)\n",
    "show(MaxAbsChange(frames[:,:,:,0]))"
   ]
  },
  {
   "cell_type": "code",
   "execution_count": null,
   "metadata": {},
   "outputs": [],
   "source": [
    "show(np.logical_or.reduce(np.abs(np.diff(frames[:,:,:,0], axis=0))>10, axis=0))"
   ]
  },
  {
   "cell_type": "code",
   "execution_count": null,
   "metadata": {},
   "outputs": [],
   "source": [
    "def change(f1, f2):\n",
    "    delta = np.abs(f1[:,:,0]-f2[:,:,0])\n",
    "    return delta\n",
    "f = 127\n",
    "show(change(frames[f], frames[f+1]), cmap='gray')"
   ]
  },
  {
   "cell_type": "code",
   "execution_count": null,
   "metadata": {},
   "outputs": [],
   "source": [
    "spots = (change(frames[77], frames[78]) > 20) & isBlue(frames[78])\n",
    "spots = cv2.dilate(spots, np.ones((3,3), dtype=np.uint8), iterations=2)\n",
    "spots = cv2.erode(spots, np.ones((3,3), dtype=np.uint8), iterations=2)\n",
    "show(spots, cmap='gray')"
   ]
  },
  {
   "cell_type": "code",
   "execution_count": null,
   "metadata": {},
   "outputs": [],
   "source": [
    "for f in range(len(frames)-1):\n",
    "    spots = (change(frames[f], frames[f+1]) > 20) & isBlue(frames[f+1])\n",
    "    spots = cv2.dilate(spots, np.ones((3,3), dtype=np.uint8), iterations=2)\n",
    "    spots = cv2.erode(spots, np.ones((3,3), dtype=np.uint8), iterations=2)\n",
    "    if np.sum(spots) > 10:\n",
    "        print(f)\n",
    "        show(spots, cmap='gray')"
   ]
  },
  {
   "cell_type": "code",
   "execution_count": null,
   "metadata": {},
   "outputs": [],
   "source": [
    "show(frames[125])"
   ]
  },
  {
   "cell_type": "code",
   "execution_count": null,
   "metadata": {},
   "outputs": [],
   "source": [
    "f = 125\n",
    "changed = (change(frames[f], frames[f+1]) > 30)\n",
    "show(changed, cmap='gray')\n",
    "blue = isBlue(frames[f])\n",
    "show(blue, cmap='gray')\n",
    "spots = changed & blue\n",
    "spots = cv2.dilate(spots, np.ones((3,3), dtype=np.uint8), iterations=2)\n",
    "spots = cv2.erode(spots, np.ones((3,3), dtype=np.uint8), iterations=2)\n",
    "show(spots, cmap='gray')"
   ]
  },
  {
   "cell_type": "code",
   "execution_count": null,
   "metadata": {},
   "outputs": [],
   "source": [
    "show(frames[125])"
   ]
  },
  {
   "cell_type": "code",
   "execution_count": null,
   "metadata": {},
   "outputs": [],
   "source": [
    "show(frames[126])"
   ]
  },
  {
   "cell_type": "code",
   "execution_count": null,
   "metadata": {},
   "outputs": [],
   "source": [
    "im = frames[125]\n",
    "def blueProb(im):\n",
    "    mblue = np.array([154, 116, 92], dtype=np.float32)\n",
    "    dblue = np.sqrt(np.sum((im - mblue)**2, axis=2))\n",
    "    print(np.min(dblue), np.max(dblue))\n",
    "    r = np.clip(1.0 - dblue / 40, 0.0, 1.0)\n",
    "    print(np.min(r), np.max(r))\n",
    "    return r\n",
    "plt.imshow(blueProb(im), cmap='gray')"
   ]
  },
  {
   "cell_type": "code",
   "execution_count": null,
   "metadata": {},
   "outputs": [],
   "source": [
    "def isBlue(lim):\n",
    "    mblue = np.array([154, 116, 92], dtype=np.float32)\n",
    "    sblue = np.array([10.4, 3.2, 8.5], dtype=np.float32)\n",
    "    blue = np.ones(lim.shape[:2], dtype=np.uint8)\n",
    "\n",
    "    for i in range(3):\n",
    "        blue &= np.abs(lim[:,:,i] - mblue[i]) < 2*sblue[i]\n",
    "\n",
    "    return blue\n"
   ]
  },
  {
   "cell_type": "code",
   "execution_count": null,
   "metadata": {},
   "outputs": [],
   "source": []
  },
  {
   "cell_type": "code",
   "execution_count": null,
   "metadata": {},
   "outputs": [],
   "source": []
  },
  {
   "cell_type": "code",
   "execution_count": null,
   "metadata": {},
   "outputs": [],
   "source": []
  },
  {
   "cell_type": "code",
   "execution_count": null,
   "metadata": {},
   "outputs": [],
   "source": []
  },
  {
   "cell_type": "code",
   "execution_count": null,
   "metadata": {},
   "outputs": [],
   "source": []
  },
  {
   "cell_type": "code",
   "execution_count": null,
   "metadata": {},
   "outputs": [],
   "source": [
    "lim = cv2.cvtColor(im, cv2.COLOR_RGB2LAB)\n",
    "target = lim[429,70]\n",
    "target"
   ]
  },
  {
   "cell_type": "code",
   "execution_count": null,
   "metadata": {},
   "outputs": [],
   "source": [
    "error = np.sqrt(np.sum((lim.astype(np.float32) - target.astype(np.float32))**2, axis=2))\n",
    "#error = 1.0 - error / np.max(error)\n",
    "#error = np.clip((error - 0.8) / 0.1, 1, -1).astype(np.float32)\n",
    "#error = error - np.mean(error)\n",
    "#error = error / np.max(error)\n",
    "error = np.where(error < 50, 1, -1)\n",
    "error = error.astype(np.float32)\n",
    "\n",
    "show(error[300:,:200], cmap='gray')\n",
    "plt.grid('on')"
   ]
  },
  {
   "cell_type": "code",
   "execution_count": null,
   "metadata": {},
   "outputs": [],
   "source": [
    "\n"
   ]
  },
  {
   "cell_type": "markdown",
   "metadata": {},
   "source": [
    "## make a circular template with on center / off surround"
   ]
  },
  {
   "cell_type": "code",
   "execution_count": null,
   "metadata": {},
   "outputs": [],
   "source": [
    "def makeTemplate(radius, delta, width=None):\n",
    "    if width is None:\n",
    "        width = np.ceil(radius * np.sqrt(2*np.pi))\n",
    "    center = (width - 1) / 2\n",
    "    d1 = (np.arange(width) - center) / radius\n",
    "    x,y = np.meshgrid(d1, d1)\n",
    "    dist = np.sqrt(x**2 + y**2)\n",
    "    t = np.clip((dist - 1)/ delta, 1, -1).astype(np.float32)\n",
    "    #t = t - np.mean(t)\n",
    "    #t = t / np.sqrt(np.sum(t**2))\n",
    "    #print(np.max(t))\n",
    "    return t.astype(np.float32)\n",
    "plt.figure()\n",
    "plt.imshow(makeTemplate(5, 0.1), cmap='gray')"
   ]
  },
  {
   "cell_type": "code",
   "execution_count": null,
   "metadata": {},
   "outputs": [],
   "source": [
    "template = makeTemplate(9, 0.1)"
   ]
  },
  {
   "cell_type": "code",
   "execution_count": null,
   "metadata": {},
   "outputs": [],
   "source": [
    "np.max(template)"
   ]
  },
  {
   "cell_type": "code",
   "execution_count": null,
   "metadata": {},
   "outputs": [],
   "source": [
    "res = cv2.matchTemplate(error, template, cv2.TM_CCORR)"
   ]
  },
  {
   "cell_type": "code",
   "execution_count": null,
   "metadata": {},
   "outputs": [],
   "source": [
    "show(res)"
   ]
  },
  {
   "cell_type": "code",
   "execution_count": null,
   "metadata": {},
   "outputs": [],
   "source": [
    "threshold = np.max(res) * 0.9\n",
    "loc = np.where( res >= threshold)\n",
    "for pt in zip(*loc[::-1]):\n",
    "    print(pt)"
   ]
  },
  {
   "cell_type": "code",
   "execution_count": null,
   "metadata": {},
   "outputs": [],
   "source": []
  },
  {
   "cell_type": "code",
   "execution_count": null,
   "metadata": {},
   "outputs": [],
   "source": [
    "def overlap(p1, p2, r):\n",
    "    return np.sum((p1 - p2)**2) < r**2\n",
    "\n",
    "def getTheBest(res, threshold, radius, offset):\n",
    "    yxs = np.argwhere(res > threshold)\n",
    "    best = []\n",
    "    for v, r1, c1 in sorted([(res[yx[0],yx[1]],yx[0],yx[1]) for yx in yxs], reverse=True):\n",
    "        p1 = np.array([r1,c1]) + offset\n",
    "        for p2 in best:\n",
    "            if overlap(p1, p2, 2*radius):\n",
    "                break\n",
    "        else:\n",
    "            best.append(p1)\n",
    "    return np.array(best)"
   ]
  },
  {
   "cell_type": "code",
   "execution_count": null,
   "metadata": {},
   "outputs": [],
   "source": [
    "radius = 8\n",
    "template = makeTemplate(radius, 0.1)\n",
    "ts2 = template.shape[0] // 2\n",
    "#print(ts2)\n",
    "res = cv2.matchTemplate(error, template, cv2.TM_CCORR)\n",
    "threshold = np.max(res) * 0.5\n",
    "plt.figure()\n",
    "plt.grid('on')\n",
    "plt.imshow(res[300:,:200], cmap='gray')\n",
    "best = getTheBest(res, threshold, radius, template.shape[0]/2)\n",
    "print(best)\n",
    "orig = im.copy()\n",
    "for pt in best:\n",
    "    rc = tuple(pt[::-1].astype(int))\n",
    "    cv2.circle(orig, rc, radius, (0,0,0), 1)\n",
    "plt.figure()\n",
    "plt.grid('on')\n",
    "plt.imshow(orig[300:,:200])\n",
    "plt.figure()\n",
    "plt.grid('on')\n",
    "plt.imshow(error[300:,:200])"
   ]
  },
  {
   "cell_type": "code",
   "execution_count": null,
   "metadata": {},
   "outputs": [],
   "source": [
    "\n",
    "\n",
    "def findFixations(image, radius, tscale=0.5, slope=0.1):\n",
    "    template = makeTemplate(radius, slope)\n",
    "    target = np.array([154, 117,  87], dtype=np.float32) # special blue\n",
    "    lim = cv2.cvtColor(image, cv2.COLOR_RGB2LAB)\n",
    "\n",
    "    error = np.sqrt(np.sum((lim.astype(np.float32) - target)**2, axis=2))\n",
    "    error = np.where(error < 10, 1, -1)\n",
    "    error = error.astype(np.float32)\n",
    "    res = cv2.matchTemplate(error, template, cv2.TM_CCORR_NORMED)\n",
    "    threshold = np.max(res) * tscale\n",
    "    print(threshold)\n",
    "\n",
    "    #show(res, cmap='gray')\n",
    "    #plt.grid('on')\n",
    "    best = getTheBest(res, threshold, radius, template.shape[0]/2)\n",
    "    print(best)\n",
    "    orig = image.copy()\n",
    "    for pt in best:\n",
    "        rc = tuple(pt[::-1].astype(int))\n",
    "        cv2.circle(orig, rc, radius, (0,0,0), 1)\n",
    "\n",
    "    show(orig)\n",
    "    plt.grid('on')\n",
    "    show(error)\n",
    "    plt.grid('on')\n",
    "    \n",
    "    return best\n",
    "    \n",
    "vc.set(cv2.CAP_PROP_POS_FRAMES, 600)\n",
    "rval, im = vc.read()\n",
    "im = cv2.cvtColor(im, cv2.COLOR_BGR2RGB)\n",
    "b = findFixations(im, 8)"
   ]
  },
  {
   "cell_type": "code",
   "execution_count": null,
   "metadata": {},
   "outputs": [],
   "source": [
    "vc.set(cv2.CAP_PROP_POS_FRAMES, 600)\n",
    "rval, im = vc.read()\n",
    "im = cv2.cvtColor(im, cv2.COLOR_BGR2RGB)\n",
    "b = findFixations(im, 8)\n",
    "\n",
    "image = im[180:225,280:325]\n",
    "show(im)"
   ]
  },
  {
   "cell_type": "code",
   "execution_count": null,
   "metadata": {},
   "outputs": [],
   "source": [
    "radius = 8\n",
    "slope = 0.1\n",
    "\n",
    "template = makeTemplate(radius, slope, width=24)\n",
    "#template = template - np.mean(template)\n",
    "plt.plot(template[radius,:])\n",
    "np.sum(template - np.mean(template))"
   ]
  },
  {
   "cell_type": "code",
   "execution_count": null,
   "metadata": {},
   "outputs": [],
   "source": [
    "tscale = 0.5 \n",
    "target = np.array([154, 117,  87], dtype=np.float32) # special blue\n",
    "lim = cv2.cvtColor(image, cv2.COLOR_RGB2LAB)\n",
    "\n",
    "error = np.sqrt(np.sum((lim.astype(np.float32) - target)**2, axis=2))\n",
    "error = np.where(error < 10, 1, -1)\n",
    "error = error.astype(np.float32)\n",
    "res = cv2.matchTemplate(error, template, cv2.TM_CCORR_NORMED)\n",
    "threshold = np.max(res) * tscale\n",
    "print(threshold)\n",
    "\n",
    "#show(res, cmap='gray')\n",
    "#plt.grid('on')\n",
    "best = getTheBest(res, threshold, radius, template.shape[0]/2)\n",
    "print(best)\n",
    "orig = image.copy()\n",
    "for pt in best:\n",
    "    rc = tuple(pt[::-1].astype(int))\n",
    "    cv2.circle(orig, rc, radius, (0,0,0), 1)\n",
    "\n",
    "show(orig)\n",
    "plt.grid('on')\n",
    "show(error)\n",
    "plt.grid('on')\n",
    "show(res, cmap='gray')\n",
    "plt.grid('on')\n",
    " "
   ]
  },
  {
   "cell_type": "code",
   "execution_count": null,
   "metadata": {},
   "outputs": [],
   "source": [
    "cv2.minMaxLoc(res)"
   ]
  },
  {
   "cell_type": "code",
   "execution_count": null,
   "metadata": {},
   "outputs": [],
   "source": [
    "res[14,11]"
   ]
  },
  {
   "cell_type": "code",
   "execution_count": null,
   "metadata": {},
   "outputs": [],
   "source": [
    "show(error[14:14+22,11:11+22])"
   ]
  },
  {
   "cell_type": "code",
   "execution_count": null,
   "metadata": {},
   "outputs": [],
   "source": [
    "np.sum(error[14:14+22,11:11+22]*template)"
   ]
  },
  {
   "cell_type": "code",
   "execution_count": null,
   "metadata": {},
   "outputs": [],
   "source": [
    "plt.imshow(error[14:14+22,11:11+22]*template)"
   ]
  },
  {
   "cell_type": "code",
   "execution_count": null,
   "metadata": {},
   "outputs": [],
   "source": [
    "frames = []\n",
    "for f in range(0, int(vc.get(cv2.CAP_PROP_FRAME_COUNT)), 1):\n",
    "    vc.set(cv2.CAP_PROP_POS_FRAMES, f)\n",
    "    rval, im = vc.read()\n",
    "    im = cv2.cvtColor(im, cv2.COLOR_BGR2GRAY)\n",
    "    frames.append(im[40:60,-50:-20])\n",
    "frames = np.array(frames)"
   ]
  },
  {
   "cell_type": "code",
   "execution_count": null,
   "metadata": {},
   "outputs": [],
   "source": [
    "fig = plt.figure()\n",
    "plt.imshow(frames.std(axis=0))"
   ]
  },
  {
   "cell_type": "code",
   "execution_count": null,
   "metadata": {},
   "outputs": [],
   "source": []
  },
  {
   "cell_type": "code",
   "execution_count": null,
   "metadata": {},
   "outputs": [],
   "source": [
    "plt.figure()\n",
    "plt.figimage(im)"
   ]
  },
  {
   "cell_type": "code",
   "execution_count": null,
   "metadata": {},
   "outputs": [],
   "source": []
  },
  {
   "cell_type": "code",
   "execution_count": null,
   "metadata": {},
   "outputs": [],
   "source": []
  },
  {
   "cell_type": "code",
   "execution_count": null,
   "metadata": {},
   "outputs": [],
   "source": []
  },
  {
   "cell_type": "code",
   "execution_count": null,
   "metadata": {},
   "outputs": [],
   "source": [
    "# DPI, here, has _nothing_ to do with your screen's DPI.\n",
    "dpi = 100.0\n",
    "xpixels, ypixels = 854, 504\n",
    "\n",
    "fig = plt.figure(figsize=(ypixels/dpi, xpixels/dpi), dpi=dpi)\n",
    "ax = fig.add_axes([0, 0, 1, 1])\n",
    "ax.axis('off')\n",
    "ax.imshow(im)"
   ]
  },
  {
   "cell_type": "code",
   "execution_count": null,
   "metadata": {},
   "outputs": [],
   "source": [
    "frames.shape"
   ]
  },
  {
   "cell_type": "code",
   "execution_count": null,
   "metadata": {},
   "outputs": [],
   "source": []
  }
 ],
 "metadata": {
  "language_info": {
   "name": "python",
   "pygments_lexer": "ipython3"
  }
 },
 "nbformat": 4,
 "nbformat_minor": 2
}
