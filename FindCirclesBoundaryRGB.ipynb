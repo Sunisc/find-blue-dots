{
 "cells": [
  {
   "cell_type": "markdown",
   "metadata": {},
   "source": [
    "# Experiment with finding circles in the Rett Girls videos\n",
    "\n",
    "July 2018\n",
    "\n",
    "This attempts boundary detection. I'm using a line fit for detecting colors in dots."
   ]
  },
  {
   "cell_type": "code",
   "execution_count": null,
   "metadata": {},
   "outputs": [],
   "source": [
    "%matplotlib inline\n",
    "# %config InlineBackend.figure_format = 'svg'\n",
    "# %config InlineBackend.print_figure_kwargs={'bbox_inches':None}\n",
    "import cv2\n",
    "import numpy as np\n",
    "import os.path as osp\n",
    "import matplotlib.pyplot as plt\n",
    "import matplotlib.image as mpimg\n",
    "import matplotlib as mpl\n",
    "plt.rcParams[\"animation.html\"] = \"jshtml\"\n",
    "\n",
    "mpl.rcParams['figure.dpi']= 300"
   ]
  },
  {
   "cell_type": "code",
   "execution_count": null,
   "metadata": {},
   "outputs": [],
   "source": [
    "vid = '/home/gb/Dropbox/Karen and Gary Shared Files/Videos & Transcripts/MSB/MSB_Video 1 (09-30-17).mp4'\n",
    "\n",
    "osp.exists(vid)"
   ]
  },
  {
   "cell_type": "code",
   "execution_count": null,
   "metadata": {},
   "outputs": [],
   "source": [
    "vc = cv2.VideoCapture(vid)\n",
    "vc.get(cv2.CAP_PROP_FRAME_COUNT), vc.get(cv2.CAP_PROP_FPS), vc.get(cv2.CAP_PROP_FRAME_WIDTH), vc.get(cv2.CAP_PROP_FRAME_HEIGHT)"
   ]
  },
  {
   "cell_type": "code",
   "execution_count": null,
   "metadata": {},
   "outputs": [],
   "source": [
    "def show(im, **kwargs):\n",
    "    '''Show images actual size unless it is tiny\n",
    "    \n",
    "    I'm assuming they are in rgb float32 if the rank is 3\n",
    "    \n",
    "    '''\n",
    "    height, width = im.shape[:2]\n",
    "    if height > 50 and width > 50:\n",
    "        dpi = 100\n",
    "        margin= 50\n",
    "        figsize=((width+2*margin)/dpi, (height+2*margin)/dpi) # inches\n",
    "        left = margin/dpi/figsize[0] #axes ratio\n",
    "        bottom = margin/dpi/figsize[1]\n",
    "\n",
    "        fig = plt.figure(figsize=figsize, dpi=dpi)\n",
    "        fig.subplots_adjust(left=left, bottom=bottom, right=1.-left, top=1.-bottom)\n",
    "    else:\n",
    "        plt.figure()\n",
    "    \n",
    "    args = dict(kwargs)\n",
    "    if 'title' in args:\n",
    "        del args['title']\n",
    "    \n",
    "    if len(im.shape) == 2:\n",
    "        args['cmap'] = 'gray'                  \n",
    "\n",
    "    plt.imshow(im, **args)\n",
    "    if 'title' in kwargs:\n",
    "        plt.title(kwargs['title'])"
   ]
  },
  {
   "cell_type": "code",
   "execution_count": null,
   "metadata": {},
   "outputs": [],
   "source": [
    "def grabFrame(fn):\n",
    "    vc.set(cv2.CAP_PROP_POS_FRAMES, fn)\n",
    "    rval, im = vc.read()\n",
    "    im = cv2.cvtColor(im.astype(np.float32)/255.0, cv2.COLOR_BGR2RGB)\n",
    "    return im\n",
    "show(grabFrame(100))"
   ]
  },
  {
   "cell_type": "code",
   "execution_count": null,
   "metadata": {},
   "outputs": [],
   "source": [
    "def isBlue(im):\n",
    "    # these are from svd fit\n",
    "    mblue = np.array([ 0.28746566,  0.70905238,  0.87152636], dtype=np.float32)\n",
    "    dblue = np.array([ 0.86527359,  0.46497536,  0.18734868], dtype=np.float32)\n",
    "    dim = im - mblue\n",
    "    u = dim.dot(dblue)\n",
    "    pim = u[:,:,None] * dblue[None,:] + mblue\n",
    "    d2 = np.sum((im - pim) ** 2, axis=2)\n",
    "    return np.exp(-d2 / 0.2)\n",
    "\n",
    "im = grabFrame(800)\n",
    "show(im)\n",
    "pblue = isBlue(im)\n",
    "print(np.max(pblue), np.min(pblue))\n",
    "show(pblue)\n",
    "_, tblue = cv2.threshold(pblue, 0.99, 255, cv2.THRESH_BINARY)\n",
    "show(tblue)"
   ]
  },
  {
   "cell_type": "code",
   "execution_count": null,
   "metadata": {},
   "outputs": [],
   "source": [
    "vc.set(cv2.CAP_PROP_POS_FRAMES, 100)\n",
    "rval, im = vc.read()\n",
    "im = cv2.cvtColor(im, cv2.COLOR_BGR2RGB)\n",
    "# im = cv2.GaussianBlur(im, (3, 3), 0)\n",
    "show(im, interpolation=None)"
   ]
  },
  {
   "cell_type": "code",
   "execution_count": null,
   "metadata": {},
   "outputs": [],
   "source": [
    "lim = cv2.cvtColor(im, cv2.COLOR_RGB2LAB).astype(np.float32)\n",
    "spotBlue = np.array([154, 117,  87], dtype=np.float32) # special blue\n",
    "plt.imshow(im, interpolation=None)\n",
    "print(lim[420,62])"
   ]
  },
  {
   "cell_type": "code",
   "execution_count": null,
   "metadata": {},
   "outputs": [],
   "source": [
    "inside = np.sqrt(np.sum((lim - spotBlue)**2, axis=2)) < 25\n",
    "inside = inside.astype(np.uint8)\n",
    "inside = cv2.dilate(inside, np.ones((3,3), dtype=np.uint8))\n",
    "show(inside, cmap='gray')\n",
    "plt.grid('on')"
   ]
  },
  {
   "cell_type": "code",
   "execution_count": null,
   "metadata": {},
   "outputs": [],
   "source": [
    "im2, contours, hierarchy = cv2.findContours(inside, cv2.RETR_EXTERNAL, cv2.CHAIN_APPROX_SIMPLE)\n",
    "\n",
    "\n",
    "contours_circles = []\n",
    "\n",
    "contours_area = []\n",
    "# calculate area and filter into new array\n",
    "for con in contours:\n",
    "    area = cv2.contourArea(con)\n",
    "    # print(area)\n",
    "    if 50 < area < 500:\n",
    "        contours_area.append(con)\n",
    "        \n",
    "#plt.figure()\n",
    "#aim = im.copy()\n",
    "#cv2.drawContours(aim, contours_area, -1, (0,0,0), 3)\n",
    "#plt.imshow(aim[300:,:200])\n",
    "#show(aim)\n",
    "\n",
    "# check if contour is of circular shape\n",
    "bad_contours = []\n",
    "for con in contours_area:\n",
    "    perimeter = cv2.arcLength(con, True)\n",
    "    area = cv2.contourArea(con)\n",
    "    if perimeter == 0:\n",
    "        print('zerop', con)\n",
    "        break\n",
    "    circularity = 4*np.pi*(area/(perimeter*perimeter))\n",
    "    M = cv2.moments(con)\n",
    "    cX = int(M[\"m10\"] / M[\"m00\"])\n",
    "    cY = int(M[\"m01\"] / M[\"m00\"])\n",
    "    print(circularity, cX, cY, area, perimeter)\n",
    "\n",
    "    if 0.7 < circularity < 1.2:\n",
    "        contours_circles.append(con)\n",
    "    else:\n",
    "        bad_contours.append(con)\n",
    "\n",
    "oim = im.copy()\n",
    "cv2.drawContours(oim, contours_circles, -1, (0,0,0), 1)\n",
    "cv2.drawContours(oim, bad_contours, -1, (255,0,0), 1)\n",
    "plt.figure()\n",
    "#plt.imshow(oim[300:,:200])\n",
    "show(oim)\n",
    "len(contours_circles)"
   ]
  },
  {
   "cell_type": "markdown",
   "metadata": {},
   "source": [
    "## get the circles"
   ]
  },
  {
   "cell_type": "code",
   "execution_count": null,
   "metadata": {},
   "outputs": [],
   "source": [
    "oim = im.copy()\n",
    "for con in contours_circles:\n",
    "    (x, y), radius = cv2.minEnclosingCircle(con)\n",
    "    center = (int(x+0.5), int(y+0.5))\n",
    "    radius = int(radius+0.5)\n",
    "    cv2.circle(oim,center,radius,(0,0,0),1)\n",
    "show(oim)\n"
   ]
  },
  {
   "cell_type": "markdown",
   "metadata": {},
   "source": [
    "## optimize the blue color"
   ]
  },
  {
   "cell_type": "code",
   "execution_count": null,
   "metadata": {},
   "outputs": [],
   "source": [
    "rows,cols = np.where(inside)\n",
    "colors = lim[rows, cols]\n",
    "distances = np.sqrt(np.sum((colors - spotBlue)**2, axis=1))\n",
    "plt.plot(sorted(distances))"
   ]
  },
  {
   "cell_type": "markdown",
   "metadata": {},
   "source": [
    "## The error seems to take off after about 600 of them\n",
    "\n",
    "Get the mean and std of those."
   ]
  },
  {
   "cell_type": "code",
   "execution_count": null,
   "metadata": {},
   "outputs": [],
   "source": [
    "ndx = np.argsort(distances)\n",
    "goodcolors = colors[ndx[:600]]\n",
    "mblue = np.mean(goodcolors, axis=0)\n",
    "sblue = np.std(goodcolors, axis=0)\n",
    "\n",
    "print(spotBlue, mblue, sblue)"
   ]
  },
  {
   "cell_type": "markdown",
   "metadata": {},
   "source": [
    "## optimize the text color"
   ]
  },
  {
   "cell_type": "code",
   "execution_count": null,
   "metadata": {},
   "outputs": [],
   "source": [
    "text = np.array([217, 116, 108], dtype=np.float32)\n",
    "rows,cols = np.where(inside)\n",
    "colors = lim[rows, cols]\n",
    "distances = np.sqrt(np.sum((colors - text)**2, axis=1))\n",
    "plt.plot(sorted(distances))"
   ]
  },
  {
   "cell_type": "markdown",
   "metadata": {},
   "source": [
    "## The error seems to take off after about 200 of them\n",
    "\n",
    "Get the mean and std of those."
   ]
  },
  {
   "cell_type": "code",
   "execution_count": null,
   "metadata": {},
   "outputs": [],
   "source": [
    "ndx = np.argsort(distances)\n",
    "goodcolors = colors[ndx[:200]]\n",
    "mtext = np.mean(goodcolors, axis=0)\n",
    "stext = np.std(goodcolors, axis=0)\n",
    "\n",
    "print(text, mtext, stext)"
   ]
  },
  {
   "cell_type": "code",
   "execution_count": null,
   "metadata": {},
   "outputs": [],
   "source": [
    "def isBlue(lim):\n",
    "    mblue = np.array([154, 116, 92], dtype=np.float32)\n",
    "    sblue = np.array([10.4, 3.2, 8.5], dtype=np.float32)\n",
    "    blue = np.ones(lim.shape[:2], dtype=np.uint8)\n",
    "\n",
    "    for i in range(3):\n",
    "        blue &= np.abs(lim[:,:,i] - mblue[i]) < 2*sblue[i]\n",
    "\n",
    "    return blue\n",
    "\n",
    "def isText(lim):\n",
    "    mtext = np.array([217, 116, 108], dtype=np.float32)\n",
    "    stest = np.array([13.9, 6.4, 8.1], dtype=np.float32)\n",
    "    text = np.ones(lim.shape[:2], dtype=np.uint8)\n",
    "\n",
    "    for i in range(3):\n",
    "        text &= np.abs(lim[:,:,i] - mtext[i]) < stext[i]\n",
    "\n",
    "    return text"
   ]
  },
  {
   "cell_type": "code",
   "execution_count": null,
   "metadata": {},
   "outputs": [],
   "source": [
    "show(isBlue(lim))"
   ]
  },
  {
   "cell_type": "code",
   "execution_count": null,
   "metadata": {},
   "outputs": [],
   "source": [
    "def overlap(c1, others):\n",
    "    for c2 in others:\n",
    "        for p in c2:\n",
    "            if cv2.pointPolygonTest(c1, tuple(p[0]), False) > 0:\n",
    "                return True\n",
    "    return False"
   ]
  },
  {
   "cell_type": "code",
   "execution_count": null,
   "metadata": {},
   "outputs": [],
   "source": [
    "def isCircular(contour):\n",
    "    perimeter = cv2.arcLength(contour, True)\n",
    "    if perimeter == 0:\n",
    "        return False\n",
    "    area = cv2.contourArea(contour)\n",
    "    circularity = 4 * np.pi * (area / perimeter ** 2)\n",
    "    return 0.7 <= circularity <= 1.2\n",
    "    #return 0.5 <= circularity <= 1.6\n",
    "\n",
    "def findFixations(image, changed, verbose=False):\n",
    "    # convert to lab space\n",
    "    lim = cv2.cvtColor(image, cv2.COLOR_RGB2LAB)\n",
    "    # find the special blue\n",
    "    blue = isBlue(lim)\n",
    "    # dilate a bit to fill in noise\n",
    "    blue = cv2.dilate(blue, np.ones((3,3), dtype=np.uint8))\n",
    "    blue = cv2.erode(blue, np.ones((3,3), dtype=np.uint8))\n",
    "    blue &= changed\n",
    "    \n",
    "    if verbose:\n",
    "        show(blue)\n",
    "    # get the contours of the blue regions\n",
    "    im2, contours, hierarchy = cv2.findContours(blue, cv2.RETR_EXTERNAL, cv2.CHAIN_APPROX_SIMPLE)\n",
    "    if verbose:\n",
    "        oim = blue.copy()\n",
    "        cv2.drawContours(oim, contours, -1, (255,0,0), 1)\n",
    "        show(oim)\n",
    "    # filter by area\n",
    "    if True:\n",
    "        minArea = np.pi * 4**2\n",
    "        maxArea = np.pi * 16**2\n",
    "        contours = [contour for contour in contours if minArea < cv2.contourArea(contour) < maxArea]\n",
    "        if verbose:\n",
    "            oim = blue.copy()\n",
    "            cv2.drawContours(oim, contours, -1, (255,0,0), 1)\n",
    "            show(oim)\n",
    "    if True:\n",
    "        # filter by circularity\n",
    "        contours = [contour for contour in contours if isCircular(contour)]\n",
    "        if verbose:\n",
    "            oim = blue.copy()\n",
    "            cv2.drawContours(oim, contours, -1, (255,0,0), 1)\n",
    "            show(oim)\n",
    "    # return the contours\n",
    "    #circles = [cv2.minEnclosingCircle(contour) for contour in contours]\n",
    "    return contours\n",
    "\n",
    "# page 4 starts at 679, ends at 844\n",
    "vc.set(cv2.CAP_PROP_POS_FRAMES, 780)\n",
    "rval, im = vc.read()\n",
    "im = cv2.cvtColor(im, cv2.COLOR_BGR2RGB)\n",
    "fixations = findFixations(im, np.ones(im.shape[:2], dtype=np.uint8) )\n",
    "print(len(fixations), 'fixations')\n",
    "\n",
    "cv2.drawContours(im, fixations, -1, (0, 0, 0), 1)\n",
    "show(im)\n"
   ]
  },
  {
   "cell_type": "code",
   "execution_count": null,
   "metadata": {},
   "outputs": [],
   "source": [
    "startFrame = 780\n",
    "endFrame = 790\n",
    "frameFixations = []\n",
    "changed = np.ones(im.shape[:2], dtype=np.uint8)\n",
    "previous = None\n",
    "for frame in range(startFrame, endFrame):\n",
    "    if frame % 10 == 0:\n",
    "        print(frame)\n",
    "    vc.set(cv2.CAP_PROP_POS_FRAMES, frame)\n",
    "    rval, im = vc.read()\n",
    "    im = cv2.cvtColor(im, cv2.COLOR_BGR2RGB)\n",
    "    im32 = im.astype(np.int32)\n",
    "\n",
    "    if previous is not None:\n",
    "        delta = np.max(np.abs(im32 - previous), axis=2)\n",
    "        changed = delta == 0\n",
    "    previous = im32\n",
    "    frameFixations.append(findFixations(im, changed, True))"
   ]
  },
  {
   "cell_type": "code",
   "execution_count": null,
   "metadata": {},
   "outputs": [],
   "source": [
    "def center(c):\n",
    "    M1 = cv2.moments(c)\n",
    "    return np.array([M[\"m10\"] / M[\"m00\"], M[\"m01\"] / M[\"m00\"]])\n",
    "\n",
    "def dist(p1, p2):\n",
    "    return np.sqrt(np.sum((p1-p2)**2))\n",
    "\n",
    "def similar(c1, c2):\n",
    "    '''True if two contours are similar.'''\n",
    "    if c1.size == c2.size and np.all(c1 == c2):\n",
    "        return True\n",
    "\n",
    "    if dist(center(c1), center(c2)) > 1:\n",
    "        return False\n",
    "    \n",
    "    if abs(cv2.contourArea(c1) - cv2.contourArea(c2)) > 5:\n",
    "        return False\n",
    "    \n",
    "    return True\n",
    "\n",
    "newFixations = []\n",
    "seen = frameFixations[0].copy() # initial set of fixations on first page\n",
    "for frame in frameFixations[1:]:\n",
    "    for fixation in frame:\n",
    "        for f in seen:\n",
    "            if similar(fixation, f):\n",
    "                break\n",
    "        else:\n",
    "            newFixations.append(fixation)\n",
    "            seen.append(fixation)\n",
    "print(len(newFixations))\n",
    "\n",
    "oim = im.copy()\n",
    "cv2.drawContours(oim, newFixations, -1, (255,0,0), 2)\n",
    "show(oim)"
   ]
  },
  {
   "cell_type": "code",
   "execution_count": null,
   "metadata": {},
   "outputs": [],
   "source": [
    "frameFixations"
   ]
  },
  {
   "cell_type": "code",
   "execution_count": null,
   "metadata": {},
   "outputs": [],
   "source": []
  },
  {
   "cell_type": "code",
   "execution_count": null,
   "metadata": {},
   "outputs": [],
   "source": []
  },
  {
   "cell_type": "code",
   "execution_count": null,
   "metadata": {},
   "outputs": [],
   "source": [
    "vc.set(cv2.CAP_PROP_POS_FRAMES, 800)\n",
    "rval, im = vc.read()\n",
    "im = cv2.cvtColor(im, cv2.COLOR_BGR2RGB)\n",
    "#box = im[336:353,374:390]\n",
    "box = im[326:363,364:400]\n",
    "plt.figure()\n",
    "plt.imshow(box)\n",
    "lim = cv2.cvtColor(box, cv2.COLOR_RGB2LAB)\n",
    "dot = lim\n",
    "bdot = isBlue(dot)\n",
    "plt.figure()\n",
    "plt.imshow(dot)\n",
    "plt.figure()\n",
    "plt.imshow(bdot)"
   ]
  },
  {
   "cell_type": "code",
   "execution_count": null,
   "metadata": {},
   "outputs": [],
   "source": [
    "dot[8,5]"
   ]
  },
  {
   "cell_type": "code",
   "execution_count": null,
   "metadata": {},
   "outputs": [],
   "source": []
  },
  {
   "cell_type": "code",
   "execution_count": null,
   "metadata": {},
   "outputs": [],
   "source": []
  },
  {
   "cell_type": "code",
   "execution_count": null,
   "metadata": {},
   "outputs": [],
   "source": [
    "vc.set(cv2.CAP_PROP_POS_FRAMES, 600)\n",
    "rval, im = vc.read()\n",
    "im = cv2.cvtColor(im, cv2.COLOR_BGR2RGB)\n",
    "b = findFixations(im, 8)\n",
    "\n",
    "image = im[180:225,280:325]\n",
    "show(im)"
   ]
  },
  {
   "cell_type": "code",
   "execution_count": null,
   "metadata": {},
   "outputs": [],
   "source": [
    "radius = 8\n",
    "slope = 0.1\n",
    "\n",
    "template = makeTemplate(radius, slope, width=24)\n",
    "#template = template - np.mean(template)\n",
    "plt.plot(template[radius,:])\n",
    "np.sum(template - np.mean(template))"
   ]
  },
  {
   "cell_type": "code",
   "execution_count": null,
   "metadata": {},
   "outputs": [],
   "source": [
    "tscale = 0.5 \n",
    "target = np.array([154, 117,  87], dtype=np.float32) # special blue\n",
    "lim = cv2.cvtColor(image, cv2.COLOR_RGB2LAB)\n",
    "\n",
    "error = np.sqrt(np.sum((lim.astype(np.float32) - target)**2, axis=2))\n",
    "error = np.where(error < 10, 1, -1)\n",
    "error = error.astype(np.float32)\n",
    "res = cv2.matchTemplate(error, template, cv2.TM_CCORR_NORMED)\n",
    "threshold = np.max(res) * tscale\n",
    "print(threshold)\n",
    "\n",
    "#show(res, cmap='gray')\n",
    "#plt.grid('on')\n",
    "best = getTheBest(res, threshold, radius, template.shape[0]/2)\n",
    "print(best)\n",
    "orig = image.copy()\n",
    "for pt in best:\n",
    "    rc = tuple(pt[::-1].astype(int))\n",
    "    cv2.circle(orig, rc, radius, (0,0,0), 1)\n",
    "\n",
    "show(orig)\n",
    "plt.grid('on')\n",
    "show(error)\n",
    "plt.grid('on')\n",
    "show(res, cmap='gray')\n",
    "plt.grid('on')\n",
    " "
   ]
  },
  {
   "cell_type": "code",
   "execution_count": null,
   "metadata": {},
   "outputs": [],
   "source": [
    "cv2.minMaxLoc(res)"
   ]
  },
  {
   "cell_type": "code",
   "execution_count": null,
   "metadata": {},
   "outputs": [],
   "source": [
    "res[14,11]"
   ]
  },
  {
   "cell_type": "code",
   "execution_count": null,
   "metadata": {},
   "outputs": [],
   "source": [
    "show(error[14:14+22,11:11+22])"
   ]
  },
  {
   "cell_type": "code",
   "execution_count": null,
   "metadata": {},
   "outputs": [],
   "source": [
    "np.sum(error[14:14+22,11:11+22]*template)"
   ]
  },
  {
   "cell_type": "code",
   "execution_count": null,
   "metadata": {},
   "outputs": [],
   "source": [
    "plt.imshow(error[14:14+22,11:11+22]*template)"
   ]
  },
  {
   "cell_type": "code",
   "execution_count": null,
   "metadata": {},
   "outputs": [],
   "source": [
    "frames = []\n",
    "for f in range(0, int(vc.get(cv2.CAP_PROP_FRAME_COUNT)), 1):\n",
    "    vc.set(cv2.CAP_PROP_POS_FRAMES, f)\n",
    "    rval, im = vc.read()\n",
    "    im = cv2.cvtColor(im, cv2.COLOR_BGR2GRAY)\n",
    "    frames.append(im[40:60,-50:-20])\n",
    "frames = np.array(frames)"
   ]
  },
  {
   "cell_type": "code",
   "execution_count": null,
   "metadata": {},
   "outputs": [],
   "source": [
    "fig = plt.figure()\n",
    "plt.imshow(frames.std(axis=0))"
   ]
  },
  {
   "cell_type": "code",
   "execution_count": null,
   "metadata": {},
   "outputs": [],
   "source": []
  },
  {
   "cell_type": "code",
   "execution_count": null,
   "metadata": {},
   "outputs": [],
   "source": [
    "plt.figure()\n",
    "plt.figimage(im)"
   ]
  },
  {
   "cell_type": "code",
   "execution_count": null,
   "metadata": {},
   "outputs": [],
   "source": []
  },
  {
   "cell_type": "code",
   "execution_count": null,
   "metadata": {},
   "outputs": [],
   "source": []
  },
  {
   "cell_type": "code",
   "execution_count": null,
   "metadata": {},
   "outputs": [],
   "source": []
  },
  {
   "cell_type": "code",
   "execution_count": null,
   "metadata": {},
   "outputs": [],
   "source": [
    "# DPI, here, has _nothing_ to do with your screen's DPI.\n",
    "dpi = 100.0\n",
    "xpixels, ypixels = 854, 504\n",
    "\n",
    "fig = plt.figure(figsize=(ypixels/dpi, xpixels/dpi), dpi=dpi)\n",
    "ax = fig.add_axes([0, 0, 1, 1])\n",
    "ax.axis('off')\n",
    "ax.imshow(im)"
   ]
  },
  {
   "cell_type": "code",
   "execution_count": null,
   "metadata": {},
   "outputs": [],
   "source": [
    "frames.shape"
   ]
  },
  {
   "cell_type": "code",
   "execution_count": null,
   "metadata": {},
   "outputs": [],
   "source": []
  }
 ],
 "metadata": {
  "language_info": {
   "name": "python",
   "pygments_lexer": "ipython3"
  }
 },
 "nbformat": 4,
 "nbformat_minor": 2
}
