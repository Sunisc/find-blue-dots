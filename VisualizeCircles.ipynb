{
 "cells": [
  {
   "cell_type": "code",
   "execution_count": null,
   "metadata": {},
   "outputs": [],
   "source": [
    "%matplotlib inline\n",
    "%config InlineBackend.figure_format = 'svg'\n",
    "# %config InlineBackend.print_figure_kwargs={'bbox_inches':None}\n",
    "import cv2\n",
    "import numpy as np\n",
    "import os.path as osp\n",
    "import matplotlib.pyplot as plt\n",
    "import matplotlib.image as mpimg\n",
    "import matplotlib as mpl\n",
    "\n",
    "mpl.rcParams['figure.dpi']= 300\n",
    "\n",
    "def show(im, **kwargs):\n",
    "    '''Show images actual size unless it is tiny\n",
    "    \n",
    "    I'm assuming they are in LAB float32 if the rank is 3\n",
    "    \n",
    "    '''\n",
    "    height, width = im.shape[:2]\n",
    "    if height > 50 and width > 50:\n",
    "        dpi = 100\n",
    "        margin= 50\n",
    "        figsize=((width+2*margin)/dpi, (height+2*margin)/dpi) # inches\n",
    "        left = margin/dpi/figsize[0] #axes ratio\n",
    "        bottom = margin/dpi/figsize[1]\n",
    "\n",
    "        fig = plt.figure(figsize=figsize, dpi=dpi)\n",
    "        fig.subplots_adjust(left=left, bottom=bottom, right=1.-left, top=1.-bottom)\n",
    "    else:\n",
    "        plt.figure()\n",
    "    \n",
    "    args = dict(kwargs)\n",
    "    if 'title' in args:\n",
    "        del args['title']\n",
    "    \n",
    "    if len(im.shape) == 3:\n",
    "        im = cv2.cvtColor(im, cv2.COLOR_LAB2RGB)\n",
    "    elif len(im.shape) == 2:\n",
    "        args['cmap'] = 'gray'                  \n",
    "\n",
    "    plt.imshow(im, **args)\n",
    "    if 'title' in kwargs:\n",
    "        plt.title(kwargs['title'])\n",
    "        \n",
    "def isBlue(im):\n",
    "    mblue = np.array([ 60.4 , -12.2, -35.7 ], dtype=np.float32)\n",
    "    sblue = np.array([ 4.1, 3.2, 8.5], dtype=np.float32)\n",
    "    d2 = np.sum((im - mblue)**2 / sblue**2, axis=2)\n",
    "    return np.exp(-d2 / 20)\n",
    "\n",
    "def circularity(contour):\n",
    "    perimeter = cv2.arcLength(contour, True)\n",
    "    if perimeter == 0:\n",
    "        return False\n",
    "    contour = cv2.convexHull(contour)\n",
    "    area = cv2.contourArea(contour)\n",
    "    result = 4 * np.pi * (area / perimeter ** 2)\n",
    "    return result\n",
    "\n",
    "def isCircular(contour, hull=False):\n",
    "    perimeter = cv2.arcLength(contour, True)\n",
    "    if perimeter == 0:\n",
    "        return False\n",
    "    if hull:\n",
    "        contour = cv2.convexHull(contour)\n",
    "    area = cv2.contourArea(contour)\n",
    "    circularity = 4 * np.pi * (area / perimeter ** 2)\n",
    "    return 0.7 <= circularity <= 1.2\n",
    "    # return 0.5 <= circularity <= 1.4"
   ]
  },
  {
   "cell_type": "code",
   "execution_count": null,
   "metadata": {},
   "outputs": [],
   "source": [
    "import pickle\n",
    "circles = pickle.load(open('MSB_Video_1.circles', 'rb'))\n",
    "print(len(circles))\n",
    "print(circles[0])"
   ]
  },
  {
   "cell_type": "code",
   "execution_count": null,
   "metadata": {},
   "outputs": [],
   "source": [
    "def rms(v):\n",
    "    return np.sqrt(np.mean(v**2))\n",
    "\n",
    "compressed = []\n",
    "for f1, y1, x1, r1, v1, p1 in circles:\n",
    "    for f2, y2, x2, r2, v2, p2 in compressed:\n",
    "        if y1 == y2 and x1 == x2 and r1 == r2 and p1.shape == p2.shape and rms(p1 - p2) < 10:\n",
    "            break\n",
    "    else:\n",
    "        compressed.append((f1, y1, x1, r1, v1, p1))\n",
    "print(len(circles), len(compressed))"
   ]
  },
  {
   "cell_type": "code",
   "execution_count": null,
   "metadata": {},
   "outputs": [],
   "source": [
    "def plotCircles(circles):\n",
    "    circles = sorted(circles, key=lambda t: t[3])\n",
    "    ncols = 25\n",
    "    nrows = (len(circles) + ncols - 1) // ncols\n",
    "    plt.figure(figsize=(ncols/2,nrows/2), dpi=100)\n",
    "    for i, (fno, y, x, r, v, pixels) in enumerate(circles):\n",
    "        plt.subplot(nrows, ncols, i+1)\n",
    "        im = cv2.cvtColor(pixels, cv2.COLOR_LAB2RGB)\n",
    "        plt.imshow(im)\n",
    "        plt.axis('off')"
   ]
  },
  {
   "cell_type": "code",
   "execution_count": null,
   "metadata": {},
   "outputs": [],
   "source": [
    "plotCircles(compressed)"
   ]
  }
 ],
 "metadata": {
  "language_info": {
   "name": "python",
   "pygments_lexer": "ipython3"
  }
 },
 "nbformat": 4,
 "nbformat_minor": 2
}
