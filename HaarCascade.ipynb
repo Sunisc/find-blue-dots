{
 "cells": [
  {
   "cell_type": "markdown",
   "metadata": {},
   "source": [
    "# Experiment with using Haar Cascades to identify the dots\n",
    "\n",
    "Gary Bishop July 2018"
   ]
  },
  {
   "cell_type": "code",
   "execution_count": null,
   "metadata": {},
   "outputs": [],
   "source": [
    "%matplotlib inline\n",
    "%config InlineBackend.figure_format = 'svg'\n",
    "# %config InlineBackend.print_figure_kwargs={'bbox_inches':None}\n",
    "import cv2\n",
    "import numpy as np\n",
    "import os.path as osp\n",
    "import matplotlib.pyplot as plt\n",
    "import matplotlib.image as mpimg\n",
    "import matplotlib as mpl\n",
    "\n",
    "mpl.rcParams['figure.dpi']= 300\n",
    "\n",
    "vid = '/home/gb/Dropbox/Karen and Gary Shared Files/Videos & Transcripts/MSB/MSB_Video 1 (09-30-17).mp4'\n",
    "vc = cv2.VideoCapture(vid)\n",
    "\n",
    "def show(im, **kwargs):\n",
    "    '''Show images actual size unless it is tiny\n",
    "    \n",
    "    I'm assuming they are in LAB float32 if the rank is 3\n",
    "    \n",
    "    '''\n",
    "    height, width = im.shape[:2]\n",
    "    if height > 50 and width > 50:\n",
    "        dpi = 100\n",
    "        margin= 50\n",
    "        figsize=((width+2*margin)/dpi, (height+2*margin)/dpi) # inches\n",
    "        left = margin/dpi/figsize[0] #axes ratio\n",
    "        bottom = margin/dpi/figsize[1]\n",
    "\n",
    "        fig = plt.figure(figsize=figsize, dpi=dpi)\n",
    "        fig.subplots_adjust(left=left, bottom=bottom, right=1.-left, top=1.-bottom)\n",
    "    else:\n",
    "        plt.figure()\n",
    "    \n",
    "    args = dict(kwargs)\n",
    "    if 'title' in args:\n",
    "        del args['title']\n",
    "    \n",
    "    if len(im.shape) == 3:\n",
    "        im = cv2.cvtColor(im, cv2.COLOR_LAB2RGB)\n",
    "    elif len(im.shape) == 2:\n",
    "        args['cmap'] = 'gray'                  \n",
    "\n",
    "    plt.imshow(im, **args)\n",
    "    if 'title' in kwargs:\n",
    "        plt.title(kwargs['title'])\n",
    "\n",
    "def grabFrame(fn):\n",
    "    vc.set(cv2.CAP_PROP_POS_FRAMES, fn)\n",
    "    rval, im = vc.read()\n",
    "    im = cv2.cvtColor(im.astype(np.float32)/255.0, cv2.COLOR_BGR2LAB)\n",
    "    return im\n",
    "show(grabFrame(100))"
   ]
  },
  {
   "cell_type": "code",
   "execution_count": null,
   "metadata": {},
   "outputs": [],
   "source": [
    "def isBlue(im):\n",
    "    mblue = np.array([ 60.4 , -12.2, -35.7 ], dtype=np.float32)\n",
    "    sblue = np.array([ 4.1, 3.2, 8.5], dtype=np.float32)\n",
    "    d2 = np.sum((im - mblue)**2 / sblue**2, axis=2)\n",
    "    return np.exp(-d2 / 20)\n"
   ]
  },
  {
   "cell_type": "code",
   "execution_count": null,
   "metadata": {},
   "outputs": [],
   "source": [
    "cascade = cv2.CascadeClassifier('output/cascade.xml')\n",
    "frame = grabFrame(1700)\n",
    "#show(frame)\n",
    "bim = (255 * isBlue(frame)).astype(np.uint8)\n",
    "# bim[bim < 0.8] = 0\n",
    "show(bim)\n",
    "dots = cascade.detectMultiScale(bim, 1.001)\n",
    "for x, y, w, h in dots:\n",
    "    cv2.rectangle(frame, (x, y), (x+w, y+h), (0,0,0), 1)\n",
    "show(frame)"
   ]
  },
  {
   "cell_type": "markdown",
   "metadata": {},
   "source": [
    "## Make more negatives"
   ]
  },
  {
   "cell_type": "code",
   "execution_count": null,
   "metadata": {},
   "outputs": [],
   "source": [
    "import os\n",
    "fp = open('negative.dat', 'at')\n",
    "offset = len(os.listdir('negative'))\n",
    "for i, (x, y, w, h) in enumerate(dots):\n",
    "    if y+h > 300:\n",
    "        continue\n",
    "    pixels = frame[y:y+h,x:x+w]\n",
    "    bim = isBlue(pixels)\n",
    "    bim = (255 * isBlue(pixels)).astype(np.uint8)\n",
    "    fname = 'negative/dot{:03d}.png'.format(i+offset)\n",
    "    cv2.imwrite(fname, bim)\n",
    "    print(fname, file=fp)"
   ]
  },
  {
   "cell_type": "code",
   "execution_count": null,
   "metadata": {},
   "outputs": [],
   "source": []
  }
 ],
 "metadata": {
  "language_info": {
   "name": "python",
   "pygments_lexer": "ipython3"
  }
 },
 "nbformat": 4,
 "nbformat_minor": 2
}
